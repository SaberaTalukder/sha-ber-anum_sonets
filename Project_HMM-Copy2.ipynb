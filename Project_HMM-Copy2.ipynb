{
 "cells": [
  {
   "cell_type": "code",
   "execution_count": null,
   "metadata": {},
   "outputs": [],
   "source": [
    "import os\n",
    "import timeit\n",
    "\n",
    "from HMM_george import unsupervised_HMM\n",
    "from HMM_helper_processed import (\n",
    "    text_to_wordcloud,\n",
    "    states_to_wordclouds,\n",
    "    parse_observations,\n",
    "    parse_observations2,\n",
    "    sample_sentence,\n",
    "    visualize_sparsities,\n",
    "    animate_emission\n",
    ")"
   ]
  },
  {
   "cell_type": "code",
   "execution_count": null,
   "metadata": {},
   "outputs": [],
   "source": [
    "text = open(os.path.join(os.getcwd(), 'data/shakespeare.txt')).read()\n",
    "poem3 = open(os.path.join(os.getcwd(), 'data/poem3.txt')).read()\n",
    "poem4 = open(os.path.join(os.getcwd(), 'data/poem4.txt')).read()\n",
    "obs, obs_map = parse_observations2(text, poem3, poem4)"
   ]
  },
  {
   "cell_type": "code",
   "execution_count": null,
   "metadata": {},
   "outputs": [],
   "source": [
    "print(len(obs))\n",
    "# print(obs[0])\n",
    "\n",
    "print(len(obs_map))\n",
    "print(obs_map)"
   ]
  },
  {
   "cell_type": "code",
   "execution_count": null,
   "metadata": {},
   "outputs": [],
   "source": [
    "num_hmm_hidden_states = [2**0, 2**1, 2**2, 2**3, 2**4, 2**5]\n",
    "num_iters = 10"
   ]
  },
  {
   "cell_type": "code",
   "execution_count": null,
   "metadata": {},
   "outputs": [],
   "source": [
    "arrangement_of_words = [9, 8, 8, 8, 8, 8, 8, 8, 8, 8, 8, 8, 9, 9]\n",
    "\n",
    "def train(observations, observation_map, num_hidden_states, num_iterations, arrangement_of_words, num_words = 115):\n",
    "    start_time = timeit.default_timer()\n",
    "    hmm = unsupervised_HMM(observations, num_hidden_states, num_iterations)\n",
    "    stop_time = timeit.default_timer()\n",
    "    print('Elpased time: ', stop_time - start_time)\n",
    "    print('Sample Poem:\\n====================')\n",
    "    sentence = sample_sentence(hmm, observation_map, n_words=num_words)\n",
    "    sentence_split_by_spaces = sentence.split()\n",
    "    \n",
    "    count = 0\n",
    "    total_num_words_printed = 0\n",
    "    for num_words in arrangement_of_words:\n",
    "        if(count == 0):\n",
    "            sent = \" \".join(sentence_split_by_spaces[0:num_words])\n",
    "            \n",
    "        elif count > 0:\n",
    "            sent = \" \".join(sentence_split_by_spaces[total_num_words_printed: total_num_words_printed + num_words])\n",
    "            \n",
    "        print(sent)\n",
    "        total_num_words_printed += num_words\n",
    "        count += 1"
   ]
  },
  {
   "cell_type": "code",
   "execution_count": null,
   "metadata": {},
   "outputs": [],
   "source": [
    "# hyphens should be removed as words\n",
    "# punctuation can't directly follow other punctuation\n",
    "# If there is a single i, it needs to be capitalized\n",
    "# remake carrots into apostrophes"
   ]
  },
  {
   "cell_type": "code",
   "execution_count": null,
   "metadata": {},
   "outputs": [],
   "source": [
    "num_hmm_hidden_states = [2**2, 2**3, 2**4, 2**5]\n",
    "num_iters = 1000\n",
    "\n",
    "for hidden_state in num_hmm_hidden_states:\n",
    "    print('On HMM number: ', hidden_state)\n",
    "    train(obs, obs_map, hidden_state, num_iters, arrangement_of_words, 115)\n",
    "    print('')"
   ]
  },
  {
   "cell_type": "code",
   "execution_count": null,
   "metadata": {},
   "outputs": [],
   "source": []
  }
 ],
 "metadata": {
  "kernelspec": {
   "display_name": "Python 3",
   "language": "python",
   "name": "python3"
  },
  "language_info": {
   "codemirror_mode": {
    "name": "ipython",
    "version": 3
   },
   "file_extension": ".py",
   "mimetype": "text/x-python",
   "name": "python",
   "nbconvert_exporter": "python",
   "pygments_lexer": "ipython3",
   "version": "3.7.2"
  }
 },
 "nbformat": 4,
 "nbformat_minor": 4
}
