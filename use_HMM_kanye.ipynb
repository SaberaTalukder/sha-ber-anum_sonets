{
 "cells": [
  {
   "cell_type": "code",
   "execution_count": 1,
   "metadata": {},
   "outputs": [
    {
     "data": {
      "text/plain": [
       "<module 'HMM_helper_processed' from '/Users/sharon/OneDrive/Documents/FirstYear/Winter2020/ML/sha-ber-anum_sonets/HMM_helper_processed.py'>"
      ]
     },
     "execution_count": 1,
     "metadata": {},
     "output_type": "execute_result"
    }
   ],
   "source": [
    "import importlib\n",
    "import os\n",
    "import pickle\n",
    "import re\n",
    "import numpy as np\n",
    "from IPython.display import HTML\n",
    "from jupyterthemes import jtplot\n",
    "jtplot.style()\n",
    "import timeit\n",
    "import urllib3\n",
    "from HMM_george import unsupervised_HMM\n",
    "from HMM_helper_processed import (\n",
    "    text_to_wordcloud,\n",
    "    states_to_wordclouds,\n",
    "    parse_observations,\n",
    "    sample_sentence,\n",
    "    visualize_sparsities,\n",
    "    animate_emission\n",
    ")\n",
    "import HMM_george\n",
    "importlib.reload(HMM_george)\n",
    "import HMM_helper_processed\n",
    "importlib.reload(HMM_helper_processed)"
   ]
  },
  {
   "cell_type": "code",
   "execution_count": 2,
   "metadata": {},
   "outputs": [],
   "source": [
    "# Get saved trained HMM models\n",
    "with open(r\"hmm7_kanye.pickle\", \"rb\") as input_file:\n",
    "    hmm7_kanye = pickle.load(input_file)\n",
    "with open(r\"obs_kanye.pickle\", \"rb\") as input_file:\n",
    "    obs_kanye = pickle.load(input_file)\n",
    "with open(r\"obs_map_kanye.pickle\", \"rb\") as input_file:\n",
    "    obs_map_kanye = pickle.load(input_file)"
   ]
  },
  {
   "cell_type": "code",
   "execution_count": 3,
   "metadata": {},
   "outputs": [
    {
     "name": "stdout",
     "output_type": "stream",
     "text": [
      "Shorty as ask dog no how fur which i^m so where much roc-a-chain do counsel and ever...\n",
      "I to i i to people being i i shall i^m doth to to it rasta...\n",
      "Through in when when from . is all in wanteth take prove in for in in...\n",
      "The ^em perpetual some my how the the the no thine foul the a thy more...\n",
      "So the want go their her a you the the swift vain the iraq her his...\n",
      ", behind it^s up all about to with get her for half up in by let...\n",
      "Had said walked have go know tryna may just open don^t thought got make ain^t save schizoid kills...\n"
     ]
    }
   ],
   "source": [
    "arrangement_of_words2 = [9+8, 8+8, 8+8, 8+8, 8+8, 8+8, 9+9]\n",
    "\n",
    "for num_words in arrangement_of_words2:\n",
    "    sentence = sample_sentence(hmm7_kanye, obs_map_kanye, n_words=num_words)\n",
    "    print(sentence)"
   ]
  }
 ],
 "metadata": {
  "kernelspec": {
   "display_name": "Python 3",
   "language": "python",
   "name": "python3"
  },
  "language_info": {
   "codemirror_mode": {
    "name": "ipython",
    "version": 3
   },
   "file_extension": ".py",
   "mimetype": "text/x-python",
   "name": "python",
   "nbconvert_exporter": "python",
   "pygments_lexer": "ipython3",
   "version": "3.7.2"
  }
 },
 "nbformat": 4,
 "nbformat_minor": 2
}
