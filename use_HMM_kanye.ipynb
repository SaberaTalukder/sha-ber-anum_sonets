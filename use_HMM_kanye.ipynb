{
 "cells": [
  {
   "cell_type": "code",
   "execution_count": 1,
   "metadata": {},
   "outputs": [
    {
     "data": {
      "text/plain": [
       "<module 'HMM_helper_processed' from '/Users/sharon/OneDrive/Documents/FirstYear/Winter2020/ML/sha-ber-anum_sonets/HMM_helper_processed.py'>"
      ]
     },
     "execution_count": 1,
     "metadata": {},
     "output_type": "execute_result"
    }
   ],
   "source": [
    "import importlib\n",
    "import os\n",
    "import pickle\n",
    "import re\n",
    "import numpy as np\n",
    "from IPython.display import HTML\n",
    "from jupyterthemes import jtplot\n",
    "jtplot.style()\n",
    "import timeit\n",
    "import urllib3\n",
    "from HMM_george import unsupervised_HMM\n",
    "from HMM_helper_processed import (\n",
    "    text_to_wordcloud,\n",
    "    states_to_wordclouds,\n",
    "    parse_observations,\n",
    "    sample_sentence,\n",
    "    visualize_sparsities,\n",
    "    animate_emission\n",
    ")\n",
    "import HMM_george\n",
    "importlib.reload(HMM_george)\n",
    "import HMM_helper_processed\n",
    "importlib.reload(HMM_helper_processed)"
   ]
  },
  {
   "cell_type": "code",
   "execution_count": 2,
   "metadata": {},
   "outputs": [],
   "source": [
    "# Get saved trained HMM models\n",
    "with open(r\"hmm7_kanye.pickle\", \"rb\") as input_file:\n",
    "    hmm7_kanye = pickle.load(input_file)\n",
    "with open(r\"hmm8_kanye.pickle\", \"rb\") as input_file:\n",
    "    hmm8_kanye = pickle.load(input_file)\n",
    "with open(r\"hmm9_kanye.pickle\", \"rb\") as input_file:\n",
    "    hmm9_kanye = pickle.load(input_file)\n",
    "with open(r\"obs_kanye.pickle\", \"rb\") as input_file:\n",
    "    obs_kanye = pickle.load(input_file)\n",
    "with open(r\"obs_map_kanye.pickle\", \"rb\") as input_file:\n",
    "    obs_map_kanye = pickle.load(input_file)"
   ]
  },
  {
   "cell_type": "code",
   "execution_count": 3,
   "metadata": {},
   "outputs": [],
   "source": [
    "with open(r\"hmm4_shakespeare.pickle\", \"rb\") as input_file:\n",
    "    hmm4_shakespeare = pickle.load(input_file)\n",
    "with open(r\"obs_shakespeare.pickle\", \"rb\") as input_file:\n",
    "    obs_shakespeare = pickle.load(input_file)\n",
    "with open(r\"obs_map_shakespeare.pickle\", \"rb\") as input_file:\n",
    "    obs_map_shakespeare = pickle.load(input_file)"
   ]
  },
  {
   "cell_type": "code",
   "execution_count": 4,
   "metadata": {},
   "outputs": [
    {
     "name": "stdout",
     "output_type": "stream",
     "text": [
      "Away here noted day asshole grave lordly moment glory scar worth hours work plight niggas heart broom-flower...\n",
      "That me kate , , ? ; on , , reputation , , male ought one...\n",
      "; place gone sights , that , , it open , allstate swag . twice ;...\n",
      "Am oops was goes begin be ain^t get backed stay notorious still went mow be fell...\n",
      ", full happy when , shriek where shit wings know , only , back , so...\n",
      ", cribs wolves but , there is out room , , worried , drowns parts ananda...\n",
      "And and so with by do of you is taught that is and on turn at for by...\n"
     ]
    }
   ],
   "source": [
    "arrangement_of_words2 = [9+8, 8+8, 8+8, 8+8, 8+8, 8+8, 9+9]\n",
    "\n",
    "for num_words in arrangement_of_words2:\n",
    "    sentence = sample_sentence(hmm7_kanye, obs_map_kanye, n_words=num_words)\n",
    "    print(sentence)"
   ]
  },
  {
   "cell_type": "code",
   "execution_count": 5,
   "metadata": {},
   "outputs": [
    {
     "name": "stdout",
     "output_type": "stream",
     "text": [
      "The close the the too durst your the this sluttish thy the left invisible succour mild mine...\n",
      "Y^all the your he it^s the whitney but a we i^m hater i we ? gucci...\n",
      "Hands go and ? had goodwill like and birthday take protect contain pulled get on exchange...\n",
      "Will spent worthiness majesty sun eyes fame giuseppe insurrection old sea veins policy legacy love heroes...\n",
      "The the the schizoid our your shallow a earnest a the good her fair earthly harrowed...\n",
      "The the your drossy my rosy the the the costly your your simple bangles false my...\n",
      "Forlorn jacks lily romans best fords eyes eyes dwelling corners more sort space romans friend return word baits...\n"
     ]
    }
   ],
   "source": [
    "arrangement_of_words2 = [9+8, 8+8, 8+8, 8+8, 8+8, 8+8, 9+9]\n",
    "\n",
    "for num_words in arrangement_of_words2:\n",
    "    sentence = sample_sentence(hmm8_kanye, obs_map_kanye, n_words=num_words)\n",
    "    print(sentence)"
   ]
  },
  {
   "cell_type": "code",
   "execution_count": 6,
   "metadata": {},
   "outputs": [
    {
     "name": "stdout",
     "output_type": "stream",
     "text": [
      "To extra-bright idea of from , , , of , determines in nubian dew , party clothes...\n",
      "Skill minds income malice lashes fav caddy star world date pa time chase love new adieu...\n",
      "It just i this virtue i^m you she home you they to they he us shames...\n",
      "Many life good hand wish air over dear dread inner words love blessed fair master mother...\n",
      "Forth to like to in run see get picked am with in that plead way her...\n",
      "Urinal cash times motherfucker best means stress picture were^t heaven life nose siege text bodyguard^s song...\n",
      "A her thy the deepak possession so their lovers^ the your my your the with that whose so...\n"
     ]
    }
   ],
   "source": [
    "arrangement_of_words2 = [9+8, 8+8, 8+8, 8+8, 8+8, 8+8, 9+9]\n",
    "\n",
    "for num_words in arrangement_of_words2:\n",
    "    sentence = sample_sentence(hmm9_kanye, obs_map_kanye, n_words=num_words)\n",
    "    print(sentence)"
   ]
  },
  {
   "cell_type": "code",
   "execution_count": 7,
   "metadata": {},
   "outputs": [
    {
     "name": "stdout",
     "output_type": "stream",
     "text": [
      "Buried it speak is what him appear ^unless ^...\n",
      "It off it^s to i i some it...\n",
      "We we the cars that^s my shots we...\n",
      "Eglantine building numbers dame childlike me skill earth...\n",
      "Whips top hundred tammy goodly iron jasmines armani...\n",
      "And full ? , . ye bale hath...\n",
      "Rests troy 10th love glass niggas parts renew^th...\n",
      "A tv it^d , you i^mma i this...\n",
      "This against and have with in stop got...\n",
      ", take calm and walking then peace gave...\n",
      "Brow eyes peace rink presence fly feet eager...\n",
      "For aunty could right nigga just was channels...\n",
      "Of blam^d which beams untainted warm to thou ,...\n",
      "Ever stoop how often as they limed like and...\n"
     ]
    }
   ],
   "source": [
    "arrangement_of_words = [9, 8, 8, 8, 8, 8, 8, 8, 8, 8, 8, 8, 9, 9]\n",
    "for num_words in arrangement_of_words:\n",
    "    sentence = sample_sentence(hmm8_kanye, obs_map_kanye, n_words=num_words)\n",
    "    print(sentence)"
   ]
  },
  {
   "cell_type": "code",
   "execution_count": 8,
   "metadata": {},
   "outputs": [],
   "source": [
    "def get_stanza(hmm, obs_map):\n",
    "    arrangement_of_words = [9, 8, 8, 8, 8, 8, 8, 8, 8, 8, 8, 8, 9, 9]\n",
    "\n",
    "    sentence = sample_sentence(hmm, obs_map, n_words=115)\n",
    "    sentence_split_by_spaces = sentence.split()\n",
    "    \n",
    "    count = 0\n",
    "    total_num_words_printed = 0\n",
    "    for num_words in arrangement_of_words:\n",
    "        if(count == 0):\n",
    "            sent = \" \".join(sentence_split_by_spaces[0:num_words])\n",
    "            \n",
    "        elif count > 0:\n",
    "            sent = \" \".join(sentence_split_by_spaces[total_num_words_printed: total_num_words_printed + num_words])\n",
    "            \n",
    "        print(sent)\n",
    "        total_num_words_printed += num_words\n",
    "        count += 1"
   ]
  },
  {
   "cell_type": "code",
   "execution_count": 9,
   "metadata": {},
   "outputs": [
    {
     "name": "stdout",
     "output_type": "stream",
     "text": [
      "Offspring self whole christian skill fair light nigga forhead\n",
      "grief away sad way memory few crap love\n",
      "wife cherry beard pride god club brits exit\n",
      "feelings sensitive way more self max year life\n",
      "girl skill woodman question encrimson^d open rose issue\n",
      "thief sight people^s magic minute encompass^d palate crew\n",
      "greater astray election method prey new jot self\n",
      "extremest wheelie fair phoenix up injustice step gross\n",
      "adjunct place eye clothes confined wife ears spoil\n",
      "millions translate mercy girl voices sweet mud might\n",
      "one tomb masculine devils dead looks windy girls\n",
      "new lot arms least on sakes eyes flowers\n",
      "blusterer shot golden not brutus those worth guy more\n",
      "now in bitch new monster clothes by things guns...\n"
     ]
    }
   ],
   "source": [
    "get_stanza(hmm7_kanye, obs_map_kanye)"
   ]
  },
  {
   "cell_type": "code",
   "execution_count": 10,
   "metadata": {},
   "outputs": [
    {
     "name": "stdout",
     "output_type": "stream",
     "text": [
      "Up ^ that what me ? calling is ,\n",
      "and give massacres and if pull cause ?\n",
      "realize that if when mad ^many , should\n",
      "why when is and sex ? nigga but\n",
      "while ? or and why then play of\n",
      "what let me will me when , ?\n",
      "and malibu do that when and if do\n",
      "what now maybe elevators but ^ and what\n",
      "that ? that and but me me z\n",
      "^fore seemed so when now if where and\n",
      "say and nasty have and and turban but\n",
      ", super what with here and and than\n",
      "but are hear is , god casually and nor\n",
      "used test which if so why and are and...\n"
     ]
    }
   ],
   "source": [
    "get_stanza(hmm9_kanye, obs_map_kanye)"
   ]
  },
  {
   "cell_type": "code",
   "execution_count": 11,
   "metadata": {},
   "outputs": [
    {
     "name": "stdout",
     "output_type": "stream",
     "text": [
      "Black i rising what a your we and yo^\n",
      "she tiffany^s everybody you you ne-yo the this\n",
      "damn me what they i your i i\n",
      "you you to you they least i^m it\n",
      "it^ll we i digger it^s i different niggas\n",
      "mj we i your i me no to\n",
      "you i the you we sacks he^s songs\n",
      "i you i it i the a my\n",
      "you i^m real she they somebody a your\n",
      "we next i^m i ? a all me\n",
      "you we my teacher my we to we\n",
      "a to refreshments old you to an she\n",
      "more i hydrate what i^m no she you her\n",
      "i^m the baby i now me it the i...\n"
     ]
    }
   ],
   "source": [
    "get_stanza(hmm8_kanye, obs_map_kanye)"
   ]
  },
  {
   "cell_type": "code",
   "execution_count": 12,
   "metadata": {},
   "outputs": [
    {
     "name": "stdout",
     "output_type": "stream",
     "text": [
      "How and love thou to patent shall extern sworn\n",
      "till will friend that i i^ll wilt and\n",
      "yet to and be true know inheritors if\n",
      "right blesses each just loving sin how and\n",
      "duty follows yet not and are can will\n",
      "and song to no resembling this dear so\n",
      "or but which ^gainst dost nor awards which\n",
      "and love^s cold written when i even swear\n",
      "the did and and then so i doth\n",
      "as doth but heavy all but saith flatter\n",
      "winter glory when that not to whether that\n",
      "divert is so why to added self to\n",
      "more for with were that and ^thus hath not\n",
      "are than which or ere if and is and...\n"
     ]
    }
   ],
   "source": [
    "get_stanza(hmm4_shakespeare, obs_map_shakespeare)"
   ]
  },
  {
   "cell_type": "code",
   "execution_count": 13,
   "metadata": {},
   "outputs": [],
   "source": [
    "def get_lines(hmm, obs_map):\n",
    "    arrangement_of_words = [9, 8, 8, 8, 8, 8, 8, 8, 8, 8, 8, 8, 9, 9]\n",
    "    for num_words in arrangement_of_words:\n",
    "        sentence = sample_sentence(hmm, obs_map_kanye, n_words=num_words)\n",
    "        print(sentence)"
   ]
  },
  {
   "cell_type": "code",
   "execution_count": 14,
   "metadata": {},
   "outputs": [
    {
     "name": "stdout",
     "output_type": "stream",
     "text": [
      "Their me my you the me the a love...\n",
      "Me the his her my it my his...\n",
      "Light minute things glitter blaze tease love general...\n",
      "So infect ? ; - , but right...\n",
      "Yet when nigga next cover that^s keeps strong...\n",
      "Lonely same ohhhhh jacksons more paper eyes doom...\n",
      "In me , of on with buy like...\n",
      "Eyes rat way true door ocean flock gold...\n",
      "Up , , . , . , ,...\n",
      "And i i^ll it^s to i^mma be i...\n",
      ", , , at , , soon ,...\n",
      "What when ye , what , ? ,...\n",
      "Better sovereignty all fill black eye kinds foe vuitton...\n",
      ", , - as blessed while . waits winds...\n"
     ]
    }
   ],
   "source": [
    "get_lines(hmm7_kanye, obs_map_kanye)"
   ]
  },
  {
   "cell_type": "code",
   "execution_count": 15,
   "metadata": {},
   "outputs": [
    {
     "name": "stdout",
     "output_type": "stream",
     "text": [
      "Fits then art me great more reckon and he...\n",
      "^ even but we^ll she not did thou...\n",
      "Only endowed thou till ^tis strong as will...\n",
      "You^re crowning to coral cars by betray touch^d...\n",
      "That drop playboy was ? find got all...\n",
      "With customer night play concealin^ , before just...\n",
      "Right alive boosie rap waiting stop eiffel be...\n",
      "Breeds , , . have dares , thou...\n",
      "Her bump other my sweet her old the...\n",
      "What^s us man you the through i ?...\n",
      "Shifting her a such another the subjects brand...\n",
      "Class can^t , whole niggas dudes never be...\n",
      "His your my her his your greatest my me...\n",
      "Accepted hours loss thee world c^mon love eye prom...\n"
     ]
    }
   ],
   "source": [
    "get_lines(hmm8_kanye, obs_map_kanye)"
   ]
  },
  {
   "cell_type": "code",
   "execution_count": 16,
   "metadata": {},
   "outputs": [
    {
     "name": "stdout",
     "output_type": "stream",
     "text": [
      "Onnn we it leaden cheesecake thou it^s she prayer...\n",
      "Woes garage name grave type untrue heaven sorrow^s...\n",
      "Classic poisonous lady grass wrong time stir which...\n",
      ", dash , , style now ; ....\n",
      "Stomach clock self people sovereign business benz drugs...\n",
      "Disdain top fill resolution kind little object earth...\n",
      "Resounded with send of on in in for...\n",
      "Comes nothing spendin^ niggas to it^s i you...\n",
      ", , tie , , than , ,...\n",
      "Proceed cash still up before carline could who^s...\n",
      "Perfect face unseen blessed blood gay heaven honey...\n",
      ". . see wrong away spring to ?...\n",
      "Cold lonely lies one^s big fresh thought due signs...\n",
      "Shade all on out pleasure own himself grave ménage...\n"
     ]
    }
   ],
   "source": [
    "get_lines(hmm9_kanye, obs_map_kanye)"
   ]
  },
  {
   "cell_type": "code",
   "execution_count": 17,
   "metadata": {},
   "outputs": [
    {
     "name": "stdout",
     "output_type": "stream",
     "text": [
      "Actor gazeth her place other thy forfeit nature^s thine...\n",
      "To greet of canopy still cold hand false...\n",
      "With all heart no on should be bears...\n",
      "Thee , , world every . dost my...\n",
      "On wary true time^s that make in poverty...\n",
      "Contracted pride forwards my my my might might...\n",
      ", to thy themselves time their holds praise...\n",
      "A , beauty^s live grow^st a said in...\n",
      ", clean , elements know^st deceased perfection present...\n",
      "Me helen^s upon thy me , ; in...\n",
      "When but and cruel that love^s shall and...\n",
      "With of store thy a hand uneared burn...\n",
      "Lives want struck with grow^st full take your of...\n",
      "There should or or ere love delight for love...\n"
     ]
    }
   ],
   "source": [
    "get_lines(hmm4_shakespeare, obs_map_shakespeare)"
   ]
  },
  {
   "cell_type": "code",
   "execution_count": 33,
   "metadata": {},
   "outputs": [],
   "source": [
    "import importlib\n",
    "from HMM_george import unsupervised_HMM\n",
    "from HMM_helper_processed import (\n",
    "    text_to_wordcloud,\n",
    "    states_to_wordclouds,\n",
    "    parse_observations,\n",
    "    sample_sentence,\n",
    "    sample_sentence_rhyme,\n",
    "    visualize_sparsities,\n",
    "    animate_emission\n",
    ")\n",
    "import HMM_helper_processed\n",
    "importlib.reload(HMM_helper_processed)\n",
    "\n",
    "def get_rhyme(hmm, obs_map):\n",
    "    rhymes_words = get_rhymes(obs_map)\n",
    "    order_list = [0,2,1,3,4,6,5,7,8,10,9,11,12,13]\n",
    "    for line_idx, num_words in enumerate(arrangement_of_words):\n",
    "        rhyme = obs_map[rhymes_words[order_list[line_idx]]]\n",
    "        sentence = sample_sentence_rhyme(hmm, obs_map, rhyme, n_words=num_words)\n",
    "#         sentence = re.sub(\"^\", \"'\", sentence)\n",
    "        print(sentence)"
   ]
  },
  {
   "cell_type": "code",
   "execution_count": 34,
   "metadata": {},
   "outputs": [],
   "source": [
    "import nltk\n",
    "import random\n",
    "\n",
    "def get_rhymes_for_word(inp, level):\n",
    "     entries = nltk.corpus.cmudict.entries()\n",
    "     syllables = [(word, syl) for word, syl in entries if word == inp]\n",
    "     rhymes = []\n",
    "     for (word, syllable) in syllables:\n",
    "         rhymes += [word for word, pron in entries if pron[-level:] == syllable[-level:]]\n",
    "     return list(rhymes)\n",
    "\n",
    "def get_rhymes(obs_map):\n",
    "    rhymes = []\n",
    "    for line in range(7):\n",
    "        rhyme1 = random.sample(list(obs_map), 1)[0]\n",
    "        while '^' in rhyme1:\n",
    "            rhyme1 = random.sample(list(obs_map), 1)[0]\n",
    "        rhymes_for_word = get_rhymes_for_word(rhyme1, 4)\n",
    "        while len(rhymes_for_word) < 3:\n",
    "            rhyme1 = random.sample(list(obs_map), 1)[0]\n",
    "            while '^' in rhyme1:\n",
    "                rhyme1 = random.sample(list(obs_map), 1)[0]\n",
    "            rhymes_for_word = get_rhymes_for_word(rhyme1, 4)\n",
    "        rhyme2 = random.choice(rhymes_for_word)\n",
    "        while rhyme2 not in list(obs_map):\n",
    "            rhyme2 = random.choice(rhymes_for_word)\n",
    "        rhymes.append(rhyme1)\n",
    "        rhymes.append(rhyme2)\n",
    "    return rhymes"
   ]
  },
  {
   "cell_type": "code",
   "execution_count": 42,
   "metadata": {},
   "outputs": [],
   "source": [
    "# Get saved trained HMM models\n",
    "with open(r\"hmm6_kanye_backward.pickle\", \"rb\") as input_file:\n",
    "    hmm6_kanye_backward = pickle.load(input_file)\n",
    "with open(r\"hmm7_kanye_backward.pickle\", \"rb\") as input_file:\n",
    "    hmm7_kanye_backward = pickle.load(input_file)\n",
    "with open(r\"hmm8_kanye_backward.pickle\", \"rb\") as input_file:\n",
    "    hmm8_kanye_backward = pickle.load(input_file)\n",
    "with open(r\"hmm9_kanye_backward.pickle\", \"rb\") as input_file:\n",
    "    hmm9_kanye_backward = pickle.load(input_file)\n",
    "with open(r\"hmm10_kanye_backward.pickle\", \"rb\") as input_file:\n",
    "    hmm10_kanye_backward = pickle.load(input_file)\n",
    "with open(r\"obs_backward_kanye.pickle\", \"rb\") as input_file:\n",
    "    obs_kanye_backward = pickle.load(input_file)"
   ]
  },
  {
   "cell_type": "code",
   "execution_count": 43,
   "metadata": {},
   "outputs": [
    {
     "name": "stdout",
     "output_type": "stream",
     "text": [
      "All control that these check , that^s majesty notary...\n",
      "Accounts trade my birthday in me with t...\n",
      ", bestow^st , ^hast my checkbook all notary...\n",
      "Blood before you lose i keep the tee...\n",
      "Told brag we see viper^s son she yourselves...\n",
      "Her maryland worth of we change eighty marigolds...\n",
      "From her envy i colour^d so i^m ourselves...\n",
      "Now zone what left you know you^re marigolds...\n",
      "? in clean present . with i bred...\n",
      "Mess party i ever in thee admire whose...\n",
      "Whips , thy launched have keep you bred...\n",
      "Was jumpman was and to flattered joint whose...\n",
      ", been to ink to pass not it text...\n",
      "Count one thy who , smiling the stacks next...\n"
     ]
    }
   ],
   "source": [
    "get_rhyme(hmm7_kanye_backward, obs_map_kanye)"
   ]
  },
  {
   "cell_type": "code",
   "execution_count": 44,
   "metadata": {},
   "outputs": [
    {
     "name": "stdout",
     "output_type": "stream",
     "text": [
      "Of last high off , and ye kept tempered...\n",
      "Up , election is hip-hop plain , admiration...\n",
      ", this for a self wit that tempered...\n",
      "New right in on , and struck variation...\n",
      "Have some to pleasure tom don^t assholes brazen...\n",
      "In cancell^d shorty , persueth and quit dealerships...\n",
      "Do show , would come the confounds brazen...\n",
      "And for enfold as feeling i mad dealerships...\n",
      "For every mouth , is but this ordinary...\n",
      "Saw from ayo , her baby in staples...\n",
      "Was i henceforth cunning to is his visionary...\n",
      "Lovers dulling the unrest . for sleeping nipples...\n",
      ", sister that mournful we to don^t washin^ desert...\n",
      "White ride homie molly up who lo , dessert...\n"
     ]
    }
   ],
   "source": [
    "get_rhyme(hmm8_kanye_backward, obs_map_kanye)"
   ]
  },
  {
   "cell_type": "code",
   "execution_count": 45,
   "metadata": {},
   "outputs": [
    {
     "name": "stdout",
     "output_type": "stream",
     "text": [
      ", that i get the diamonds , the evil...\n",
      "I like the hand , , ma em...\n",
      "Sinful bitch . again or dom your evil...\n",
      "The wayne , better inspired up strong m...\n",
      "Me rome can is wit breast your devouring...\n",
      "Already it upon their his care , sonic...\n",
      "Your pity call me out a that devouring...\n",
      "Do sell , piss i^m told be ironic...\n",
      "To get dying flame and on these packaging...\n",
      "Might fuck fair that i like bequeath mingled...\n",
      "To really , everybody i fear her packaging...\n",
      "I gave the johnson freak , do mingled...\n",
      "Eyes , i talking cause but with hot clerk...\n",
      "The grind to six , huh at every clerk...\n"
     ]
    }
   ],
   "source": [
    "get_rhyme(hmm9_kanye_backward, obs_map_kanye)"
   ]
  },
  {
   "cell_type": "code",
   "execution_count": 46,
   "metadata": {},
   "outputs": [
    {
     "name": "stdout",
     "output_type": "stream",
     "text": [
      "Hoes they and that espied . needed their spectacle...\n",
      "Not ass only ego , like the rapper...\n",
      "Her guy but she , and blast chemical...\n",
      "Never to mad i , on no rapper...\n",
      "I got all steepy strong gon^ that assured...\n",
      "She , can piss thou thinks that concord...\n",
      "^o bones that^s awhile turn for a assured...\n",
      "Advantage can kill , her up a concord...\n",
      "Kill awaketh the me wall , tight betraying...\n",
      ", so having die tonight in ! immortality...\n",
      "Look , he blazin^ ! louis , praying...\n",
      ", her hov and or , niggas humility...\n",
      "And not like but make a eyes , glisten...\n",
      "But had well barely you goat serato it listen...\n"
     ]
    }
   ],
   "source": [
    "get_rhyme(hmm6_kanye_backward, obs_map_kanye)"
   ]
  },
  {
   "cell_type": "code",
   "execution_count": 47,
   "metadata": {},
   "outputs": [
    {
     "name": "stdout",
     "output_type": "stream",
     "text": [
      "That by how man , got i^m hell projects...\n",
      "Such every gods , yet , the shoot...\n",
      "Which columbines thoughts strangely so could summer^s objects...\n",
      "A i would turn the stupid , shoot...\n",
      ", i out-going this , hopes my sanity...\n",
      "Freshness welcome rocka i get with records preaching...\n",
      "Naked boobies ten my glass had envy opportunity...\n",
      "To stand fight , ^ , and teaching...\n",
      "Me big as how dick keep off nightclub...\n",
      "Hand the and to i^m called my whale...\n",
      "Pour know you hoodie big wins up nightclub...\n",
      "Freshness never a fuck a just up whale...\n",
      "! responsibilities thing we done up thing and psychiatrist...\n",
      ", beyond respect , move my day at interest...\n"
     ]
    }
   ],
   "source": [
    "get_rhyme(hmm10_kanye_backward, obs_map_kanye)"
   ]
  },
  {
   "cell_type": "code",
   "execution_count": 48,
   "metadata": {},
   "outputs": [],
   "source": [
    "# Get saved trained HMM models\n",
    "with open(r\"hmm6_2000iters_kanye_backward.pickle\", \"rb\") as input_file:\n",
    "    hmm6_2000iters_kanye_backward = pickle.load(input_file)\n",
    "with open(r\"hmm7_2000iters_kanye_backward.pickle\", \"rb\") as input_file:\n",
    "    hmm7_2000iters_kanye_backward = pickle.load(input_file)\n",
    "with open(r\"hmm8_2000iters_kanye_backward.pickle\", \"rb\") as input_file:\n",
    "    hmm8_2000iters_kanye_backward = pickle.load(input_file)\n",
    "with open(r\"hmm9_2000iters_kanye_backward.pickle\", \"rb\") as input_file:\n",
    "    hmm9_2000iters_kanye_backward = pickle.load(input_file)\n",
    "# with open(r\"hmm10_2000iters_kanye_backward.pickle\", \"rb\") as input_file:\n",
    "#     hmm10_2000iters_kanye_backward = pickle.load(input_file)\n",
    "with open(r\"obs_backward_kanye.pickle\", \"rb\") as input_file:\n",
    "    obs_kanye_backward = pickle.load(input_file)"
   ]
  },
  {
   "cell_type": "code",
   "execution_count": 50,
   "metadata": {},
   "outputs": [
    {
     "name": "stdout",
     "output_type": "stream",
     "text": [
      "hmm6_2000iters_kanye_backward:\n",
      "Team let pity-wanting wildin^ embrace to that i beatle...\n",
      "I^m new stars even . i^ve how pee...\n",
      "And italy before thy sin on they beatle...\n",
      "Write on painting where grab ringing brine p...\n",
      "And i doth so be to somebody infected...\n",
      "Enclosed in badness lowest bombed is nor masculine...\n",
      "Be always despair on take how i abducted...\n",
      "Head got my fame him sonnets the masculine...\n",
      "Gettin^ they for my object become honey homme...\n",
      "Is ? you out up better , talking...\n",
      "Stand , i^m ain^t rest - every homme...\n",
      "Stank and crystal hours me just mr talking...\n",
      "Can^t , i will outwent . baby should sacred...\n",
      ". him to no joke when we on sacred...\n",
      "\n",
      "hmm7_2000iters_kanye_backward:\n",
      "Ask in me , girls^ll night , this mistakes...\n",
      "Kayne o , and as rich up exceeded...\n",
      "Money my to print to not you takes...\n",
      "The i^m say only , i stole exceeded...\n",
      "Handshake should only to me that it themselves...\n",
      "From my year like a trophies most superficial...\n",
      "Own in but subtle speak she to ourselves...\n",
      "It^s i become hand , of your superficial...\n",
      "Thy kids through ronsy go of my pelleted...\n",
      "From the collatine i was power all therein...\n",
      "Do a chick this consoling cares keys limited...\n",
      "Husband shiny but where the eyes her therein...\n",
      ", when she gon my right with i enlarge...\n",
      "A guys . on they admit you want enlarge...\n",
      "\n",
      "hmm8_2000iters_kanye_backward:\n",
      "Reverse soft bad assessin^ these poor i ask writers...\n",
      "Form . 7 , wondering at his parts...\n",
      "Neither it^s that dust fond all the lighters...\n",
      "Dost it i made , when a charts...\n",
      "Hope weak bliss beyond captives had my streets...\n",
      "Maybe for my heart tarquin fast down tweaking...\n",
      "Strength , a leisure , before you treats...\n",
      "When reason know prices don^t see thy reeking...\n",
      "At will for from the flint , waving...\n",
      "Freeway no really thee powells and me aye...\n",
      "A apples . and now do can^t saving...\n",
      "Her bentley that you used these virgin ay...\n",
      "Blocka is the the money - than thy hunger...\n",
      "Day nay her ! i going light black^st hunger...\n",
      "\n",
      "hmm9_2000iters_kanye_backward:\n",
      ", hop with murder^st grandfather together in my fans...\n",
      "Left passion self yeah they resemble i willy...\n",
      "No fair ^til girl being got the fans...\n",
      "Morning^s deaths ? you got me thou willy...\n",
      "You want as my silly of mama^s spotted...\n",
      "Is had me when will got you tracey...\n",
      "Hit me car me was yourself i spotted...\n",
      "Light mixed wretched like a excellence , tracey...\n",
      "You kept that than melrose of every monument...\n",
      "Know men held his scope , to portly...\n",
      "One free , i adopted people ere entertainment...\n",
      "No fighting lightskinned ! your records in partly...\n",
      "Coochie then sad sure when bra-strapless burn i probe...\n",
      "House , of other peephole to those affections prob...\n"
     ]
    }
   ],
   "source": [
    "print('hmm6_2000iters_kanye_backward:')\n",
    "get_rhyme(hmm6_2000iters_kanye_backward, obs_map_kanye)\n",
    "print('')\n",
    "print('hmm7_2000iters_kanye_backward:')\n",
    "get_rhyme(hmm7_2000iters_kanye_backward, obs_map_kanye)\n",
    "print('')\n",
    "print('hmm8_2000iters_kanye_backward:')\n",
    "get_rhyme(hmm8_2000iters_kanye_backward, obs_map_kanye)\n",
    "print('')\n",
    "print('hmm9_2000iters_kanye_backward:')\n",
    "get_rhyme(hmm9_2000iters_kanye_backward, obs_map_kanye)"
   ]
  },
  {
   "cell_type": "code",
   "execution_count": 51,
   "metadata": {},
   "outputs": [
    {
     "name": "stdout",
     "output_type": "stream",
     "text": [
      "hmm6_2000iters_kanye_backward:\n",
      "Like her i short shining a both psychic drops...\n",
      ", i ain^t yeah i am for constrain...\n",
      "London house , but down in her crops...\n",
      "Face to endin^ trust ; by sugar^d train...\n",
      "Bears fair ornaments , was their time^s enlarged...\n",
      "Sun , sparks big brother them down girls...\n",
      "Know yo ? of word wasn^t shall discharged...\n",
      "A thing out the hand for of girls...\n",
      "Dear with the perpetual , by stewards persist...\n",
      "Tell , with fair cross that men idiot...\n",
      ", but bring find a assay i^m persist...\n",
      "Them yo this . don^t wooed sleepy idiot...\n",
      "Call the classic action , yield . off freezing...\n",
      "Far rapped from sick yet^ i , the freezing...\n",
      "\n",
      "hmm7_2000iters_kanye_backward:\n",
      "The stained concealing when doth serve caesar and according...\n",
      "Now thou hate and pitiful slaughter pictures ordained...\n",
      "^a i attended with she , is according...\n",
      "You never you without car mama , ordained...\n",
      "Don^t i strong wagg^d , and hard strange...\n",
      "Kill is in heart it^s should the fulfilled...\n",
      "To save the ire that^s my shows strange...\n",
      "A night not even the tear . fulfilled...\n",
      "Way now i by at and an mustering...\n",
      "And that unperfect textile ah to creatures vary...\n",
      "Go brought it with thy we inspired flattering...\n",
      "Said gown so gon hurt at al very...\n",
      "Cousins is many . . from i know sustaining...\n",
      "Vows like i love the it sings not gaining...\n",
      "\n",
      "hmm8_2000iters_kanye_backward:\n",
      "By go so you damn we to say nah...\n",
      "Brutus of lucrece^ night speeds , around lust...\n",
      "It to commit , her a name nah...\n",
      "? for the tyrant , cell that^s lust...\n",
      "Pack where in endure racks plus still sorted...\n",
      ", us to made heavenly leach ^bout posterity...\n",
      "Third he breeze go to clothe now started...\n",
      "The roc , why length pleasure a impurity...\n",
      "Seen removed that and a place to actors...\n",
      "Make by a heaven , solemn y^all behold...\n",
      "I tried i keep let at the characters...\n",
      "Was a ass i love powerful afraid behold...\n",
      "Arrogance they phoebus^ one car wrestlers nowhere but whitney...\n",
      "It . tryst and ^ like my beat whitney...\n",
      "\n",
      "hmm9_2000iters_kanye_backward:\n",
      "Foe that are am be too wrong melt sleepy...\n",
      "Like the quality , simois^ by have scorn...\n",
      "The heart to cost behold up foes sleepy...\n",
      "? i^m will down gucci hablo stuck corn...\n",
      "Whole lawyer i ought what you stain begotten...\n",
      "- thee lips gon^ sent say wet amplify...\n",
      "A her lies what thus most at begotten...\n",
      "A wounds ? gave the kids ask amplify...\n",
      "And hath feel lonely heaven^ll lot men speeches...\n",
      "What thou flake ? finding women^s the tantrum...\n",
      "Did bad like , tell he say speeches...\n",
      "And are and intituled to the world^s tantrum...\n",
      "Is calling - i pictures niggas chopt to green...\n",
      "To loved that no ring , , make green...\n"
     ]
    }
   ],
   "source": [
    "print('hmm6_2000iters_kanye_backward:')\n",
    "get_rhyme(hmm6_2000iters_kanye_backward, obs_map_kanye)\n",
    "print('')\n",
    "print('hmm7_2000iters_kanye_backward:')\n",
    "get_rhyme(hmm7_2000iters_kanye_backward, obs_map_kanye)\n",
    "print('')\n",
    "print('hmm8_2000iters_kanye_backward:')\n",
    "get_rhyme(hmm8_2000iters_kanye_backward, obs_map_kanye)\n",
    "print('')\n",
    "print('hmm9_2000iters_kanye_backward:')\n",
    "get_rhyme(hmm9_2000iters_kanye_backward, obs_map_kanye)"
   ]
  },
  {
   "cell_type": "code",
   "execution_count": 54,
   "metadata": {},
   "outputs": [
    {
     "name": "stdout",
     "output_type": "stream",
     "text": [
      "hmm7_10iters_kanye_backward:\n",
      "I same them the and look i , swelling...\n",
      "; i^m the alone starved hath you flying...\n",
      "When good still anna them love , dwelling...\n",
      "All sick her colour wrackful new me applying...\n",
      "She up o the if know but scar...\n",
      ". . me you just cheer close-bleeding pocket...\n",
      "Drive out i the yeah be to scar...\n",
      "What the the need hood prob a rocket...\n",
      "That got , , pockets no you qualified...\n",
      "You had ain^t the cocaine it shall trenches...\n",
      "It , . and don^t steal threesome qualified...\n",
      ", sons like feeling my 21st then branches...\n",
      "Up all the to raybe- my the no motivation...\n",
      "You we he^s , soon upon eye irs conversation...\n",
      "\n",
      "hmm8_10iters_kanye_backward:\n",
      "Jacob time man all spit ok hands she mattress...\n",
      "Like , to you you it ^this code...\n",
      "Being then question to do . the mattress...\n",
      "My ? , even increase had an code...\n",
      "Not , , , power and people^s gentle...\n",
      "Hallway , that him that chunks good can...\n",
      "Own told by how with just say gentle...\n",
      "That beanie^s wish a is . if kan...\n",
      "Step ain^t ass one on dost got destiny...\n",
      "! stress runneth terms fuck , . poetry...\n",
      "I^m her , guess thee or what mutiny...\n",
      "Thy were need in make , to poetry...\n",
      "Death 25 humbless the league ain^t in an nestor...\n",
      "Than the might your affords . by the fester...\n",
      "\n",
      "hmm9_10iters_kanye_backward:\n",
      "Giving then to on first and under it^s changed...\n",
      "Skinny let may wind with out light wrecks...\n",
      "Kisses rudolph goddess your is the at ranged...\n",
      "Nigga now broke or in have glad wrecks...\n",
      "Scraps tease is hell of ; ; disdained...\n",
      "Playa ride i ground of for if large...\n",
      "Be , were thievish that see all ordained...\n",
      ", upon o defeated praise the today large...\n",
      "Judge , out forgive , at hit persistence...\n",
      ", , in but by rape live misty...\n",
      "Of be . and thou she you instance...\n",
      "Extra metropolitan drops the will he i^mma misty...\n",
      "Way the sister your in of and dues anchored...\n",
      "The that spend somebody ^tis perjury headed near anchored...\n"
     ]
    }
   ],
   "source": [
    "# with open(r\"hmm6_10iters_kanye_backward.pickle\", \"rb\") as input_file:\n",
    "#     hmm6_10iters_kanye_backward = pickle.load(input_file)\n",
    "with open(r\"hmm7_10iters_kanye_backward.pickle\", \"rb\") as input_file:\n",
    "    hmm7_10iters_kanye_backward = pickle.load(input_file)\n",
    "with open(r\"hmm8_10iters_kanye_backward.pickle\", \"rb\") as input_file:\n",
    "    hmm8_10iters_kanye_backward = pickle.load(input_file)\n",
    "with open(r\"hmm9_10iters_kanye_backward.pickle\", \"rb\") as input_file:\n",
    "    hmm9_10iters_kanye_backward = pickle.load(input_file)\n",
    "with open(r\"hmm10_10iters_kanye_backward.pickle\", \"rb\") as input_file:\n",
    "    hmm10_10iters_kanye_backward = pickle.load(input_file)\n",
    "with open(r\"obs_backward_kanye.pickle\", \"rb\") as input_file:\n",
    "    obs_kanye_backward = pickle.load(input_file)\n",
    "\n",
    "# print('hmm6_10iters_kanye_backward:')\n",
    "# get_rhyme(hmm6_10iters_kanye_backward, obs_map_kanye)\n",
    "# print('')\n",
    "print('hmm7_10iters_kanye_backward:')\n",
    "get_rhyme(hmm7_10iters_kanye_backward, obs_map_kanye)\n",
    "print('')\n",
    "print('hmm8_10iters_kanye_backward:')\n",
    "get_rhyme(hmm8_10iters_kanye_backward, obs_map_kanye)\n",
    "print('')\n",
    "print('hmm9_10iters_kanye_backward:')\n",
    "get_rhyme(hmm9_10iters_kanye_backward, obs_map_kanye)"
   ]
  },
  {
   "cell_type": "code",
   "execution_count": null,
   "metadata": {},
   "outputs": [],
   "source": []
  }
 ],
 "metadata": {
  "kernelspec": {
   "display_name": "Python 3",
   "language": "python",
   "name": "python3"
  },
  "language_info": {
   "codemirror_mode": {
    "name": "ipython",
    "version": 3
   },
   "file_extension": ".py",
   "mimetype": "text/x-python",
   "name": "python",
   "nbconvert_exporter": "python",
   "pygments_lexer": "ipython3",
   "version": "3.7.2"
  }
 },
 "nbformat": 4,
 "nbformat_minor": 2
}
