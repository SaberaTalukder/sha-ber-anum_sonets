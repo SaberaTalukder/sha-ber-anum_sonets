{
 "cells": [
  {
   "cell_type": "code",
   "execution_count": 1,
   "metadata": {},
   "outputs": [
    {
     "data": {
      "text/plain": [
       "<module 'HMM_helper_processed' from '/Users/sharon/OneDrive/Documents/FirstYear/Winter2020/ML/sha-ber-anum_sonets/HMM_helper_processed.py'>"
      ]
     },
     "execution_count": 1,
     "metadata": {},
     "output_type": "execute_result"
    }
   ],
   "source": [
    "import importlib\n",
    "import os\n",
    "import pickle\n",
    "import re\n",
    "import numpy as np\n",
    "from IPython.display import HTML\n",
    "from jupyterthemes import jtplot\n",
    "jtplot.style()\n",
    "import timeit\n",
    "import urllib3\n",
    "from HMM_george import unsupervised_HMM\n",
    "from HMM_helper_processed import (\n",
    "    text_to_wordcloud,\n",
    "    states_to_wordclouds,\n",
    "    parse_observations,\n",
    "    sample_sentence,\n",
    "    visualize_sparsities,\n",
    "    animate_emission\n",
    ")\n",
    "import HMM_george\n",
    "importlib.reload(HMM_george)\n",
    "import HMM_helper_processed\n",
    "importlib.reload(HMM_helper_processed)"
   ]
  },
  {
   "cell_type": "code",
   "execution_count": 5,
   "metadata": {},
   "outputs": [],
   "source": [
    "# Get saved trained HMM models\n",
    "with open(r\"hmm7_kanye.pickle\", \"rb\") as input_file:\n",
    "    hmm7_kanye = pickle.load(input_file)\n",
    "with open(r\"hmm8_kanye.pickle\", \"rb\") as input_file:\n",
    "    hmm8_kanye = pickle.load(input_file)\n",
    "with open(r\"hmm9_kanye.pickle\", \"rb\") as input_file:\n",
    "    hmm9_kanye = pickle.load(input_file)\n",
    "with open(r\"obs_kanye.pickle\", \"rb\") as input_file:\n",
    "    obs_kanye = pickle.load(input_file)\n",
    "with open(r\"obs_map_kanye.pickle\", \"rb\") as input_file:\n",
    "    obs_map_kanye = pickle.load(input_file)"
   ]
  },
  {
   "cell_type": "code",
   "execution_count": 6,
   "metadata": {},
   "outputs": [
    {
     "name": "stdout",
     "output_type": "stream",
     "text": [
      "That he we should you we everybody thou to i^m i^ve then soul to i you manly...\n",
      "! . tryin^ , , bath ; ? it bay , twice , how , ,...\n",
      "Closest perfect eye bitch nothin love desire rage clothes part couple oppress^d sacred most spite same...\n",
      "Expressed got could hell think go told said got do young got workin^ be was muscle...\n",
      "Observance own breath mixing view list disgrace name glocks does fame niggas girl infirmity very depot...\n",
      "My my my a a her mine an a day^s a the your the this old...\n",
      "My the that the you my me no subtle dreary some more greater them me footsteps the these...\n"
     ]
    }
   ],
   "source": [
    "arrangement_of_words2 = [9+8, 8+8, 8+8, 8+8, 8+8, 8+8, 9+9]\n",
    "\n",
    "for num_words in arrangement_of_words2:\n",
    "    sentence = sample_sentence(hmm7_kanye, obs_map_kanye, n_words=num_words)\n",
    "    print(sentence)"
   ]
  },
  {
   "cell_type": "code",
   "execution_count": 7,
   "metadata": {},
   "outputs": [
    {
     "name": "stdout",
     "output_type": "stream",
     "text": [
      "He now for none look view me show borne yourself lets she yet nor reason when stormy...\n",
      "Getting hooked violet told seen speak picture with let , way , blow but ^bout know...\n",
      "Name man seducers never tour don^t feet tryna be floss executives then were course , more...\n",
      ", , , of . . . ; , , . ? and not , ....\n",
      "Leave pants about and to because cause know why is be so feds trying showed with...\n",
      "You pausing i which reason acture what soon slain and here approach nought know who that...\n",
      "That^s me i^ll least the i you i to now you its you yo themselves c they i^m...\n"
     ]
    }
   ],
   "source": [
    "arrangement_of_words2 = [9+8, 8+8, 8+8, 8+8, 8+8, 8+8, 9+9]\n",
    "\n",
    "for num_words in arrangement_of_words2:\n",
    "    sentence = sample_sentence(hmm8_kanye, obs_map_kanye, n_words=num_words)\n",
    "    print(sentence)"
   ]
  },
  {
   "cell_type": "code",
   "execution_count": 8,
   "metadata": {},
   "outputs": [
    {
     "name": "stdout",
     "output_type": "stream",
     "text": [
      "Delight ear whole summer^s eye still desire love fault beauty side alien never embrace cause whole dimmed...\n",
      "Fuck bring on bad know , over call wear , seen down yield know , up...\n",
      "They you to god we you i i yeezy i i i to writ you shoes...\n",
      "She me you this that drive pssh me to he you^ve yes it i themselves that...\n",
      "Air flower light darkness lady lays easy heart-inflaming decimal vain maker^s jacobs brain strong black imaginary...\n",
      "Alive right once again be got never wouldn^t might stop hungover good lovely weep wasn^t don^t...\n",
      "Her the greater thy an the some your the thy immortal the the my a those men^s my...\n"
     ]
    }
   ],
   "source": [
    "arrangement_of_words2 = [9+8, 8+8, 8+8, 8+8, 8+8, 8+8, 9+9]\n",
    "\n",
    "for num_words in arrangement_of_words2:\n",
    "    sentence = sample_sentence(hmm9_kanye, obs_map_kanye, n_words=num_words)\n",
    "    print(sentence)"
   ]
  },
  {
   "cell_type": "code",
   "execution_count": 15,
   "metadata": {},
   "outputs": [
    {
     "name": "stdout",
     "output_type": "stream",
     "text": [
      "Way foul arion own sport footsteps part fate by-any-means...\n",
      "Why when hate sometimes like huswife up yeah...\n",
      "Ever were even big lyrical klan be been...\n",
      "? said but walk got ? dog if...\n",
      "So have not i be arrogant goin^ niggas...\n",
      "The i her me she everybody cranked up...\n",
      "Theme abuses thoughts same sport direct many joy...\n",
      "Of in cover from through by cause chi-town...\n",
      "Misdeem and for you pleading thence and dwell...\n",
      "The household^s whose what his summer^s thy thy...\n",
      "The parling sweet that the the amiable the...\n",
      "With , on take on ? , ,...\n",
      "Don^t just be ends gon^ was see come christopher...\n",
      "Fame a get don^t demo dawgs motherfucker getting glitter...\n"
     ]
    }
   ],
   "source": [
    "arrangement_of_words = [9, 8, 8, 8, 8, 8, 8, 8, 8, 8, 8, 8, 9, 9]\n",
    "for num_words in arrangement_of_words:\n",
    "    sentence = sample_sentence(hmm8_kanye, obs_map_kanye, n_words=num_words)\n",
    "    print(sentence)"
   ]
  },
  {
   "cell_type": "code",
   "execution_count": 16,
   "metadata": {},
   "outputs": [],
   "source": [
    "def get_stanza(hmm):\n",
    "    arrangement_of_words = [9, 8, 8, 8, 8, 8, 8, 8, 8, 8, 8, 8, 9, 9]\n",
    "\n",
    "    sentence = sample_sentence(hmm, obs_map_kanye, n_words=115)\n",
    "    sentence_split_by_spaces = sentence.split()\n",
    "    \n",
    "    count = 0\n",
    "    total_num_words_printed = 0\n",
    "    for num_words in arrangement_of_words:\n",
    "        if(count == 0):\n",
    "            sent = \" \".join(sentence_split_by_spaces[0:num_words])\n",
    "            \n",
    "        elif count > 0:\n",
    "            sent = \" \".join(sentence_split_by_spaces[total_num_words_printed: total_num_words_printed + num_words])\n",
    "            \n",
    "        print(sent)\n",
    "        total_num_words_printed += num_words\n",
    "        count += 1"
   ]
  },
  {
   "cell_type": "code",
   "execution_count": 17,
   "metadata": {},
   "outputs": [
    {
     "name": "stdout",
     "output_type": "stream",
     "text": [
      "Gold view foul most strong forever rockstar self highest\n",
      "windy dear house church day is end fear\n",
      "up card delight foe wounds lips beats own\n",
      "heart^s fair girl ring one t bawd painful\n",
      "name goodly baby sword out quest sustain woes\n",
      "baby hour minute big jackson course knees glorious\n",
      "aunt lebron star spirit spoil fresh quite hard\n",
      "sky awesome wings bad thang near prays music\n",
      "took mcs savage heart urge shit bed burn\n",
      "brain riches wanton open ruth mind feds^ll bartender\n",
      "island drums thought c-notes stars yeezy black fire\n",
      "tracks worthless eyes cell suppliant^s wind crib reveal\n",
      "many own image power shit released plain street clear\n",
      "sour eyes tour love disguise bawd little man comin^...\n"
     ]
    }
   ],
   "source": [
    "get_stanza(hmm7_kanye)"
   ]
  },
  {
   "cell_type": "code",
   "execution_count": 21,
   "metadata": {},
   "outputs": [
    {
     "name": "stdout",
     "output_type": "stream",
     "text": [
      "On to awaketh start for is in bob dare\n",
      "or from of with why make in true\n",
      "open against like still descended in then in\n",
      "of fell got that^s you^re for harvesting in\n",
      "violate true upon all all and half incur\n",
      "stormy do pushin^ delight profiled like wounds me\n",
      "to sigh share in of it^s of just\n",
      "be in what^s rock by get in should\n",
      "had get just in stole at thence for\n",
      "to that^s by rip thou there view in\n",
      "from ye most bat sure from was yo\n",
      "in through slumber except what at like of\n",
      "interchange who in for at meanwhile in hath for\n",
      "in from and rail that^s to and pushin^ most...\n"
     ]
    }
   ],
   "source": [
    "get_stanza(hmm9_kanye)"
   ]
  },
  {
   "cell_type": "code",
   "execution_count": 22,
   "metadata": {},
   "outputs": [
    {
     "name": "stdout",
     "output_type": "stream",
     "text": [
      "Where , run , tell what send , believe\n",
      "back wake summon go just at wrote let\n",
      "like when but about man , lately see\n",
      "cold up on noemie turn , that god\n",
      "nonsense hit got like did if , all\n",
      "would when ? told , rolex left as\n",
      "disown make wearin^ change beyonce if trying fuck\n",
      "trying hate , polished potent like from private\n",
      "call classes hoes on rented and but know\n",
      "do love that see cause louis , ,\n",
      "bought protest photograph put and how days peepin^\n",
      "switched show then day like if fuck trying\n",
      "turn and off tippers shit if synonym and doin\n",
      "with call act with but to maybe needed like...\n"
     ]
    }
   ],
   "source": [
    "get_stanza(hmm8_kanye)"
   ]
  },
  {
   "cell_type": "code",
   "execution_count": null,
   "metadata": {},
   "outputs": [],
   "source": []
  }
 ],
 "metadata": {
  "kernelspec": {
   "display_name": "Python 3",
   "language": "python",
   "name": "python3"
  },
  "language_info": {
   "codemirror_mode": {
    "name": "ipython",
    "version": 3
   },
   "file_extension": ".py",
   "mimetype": "text/x-python",
   "name": "python",
   "nbconvert_exporter": "python",
   "pygments_lexer": "ipython3",
   "version": "3.7.2"
  }
 },
 "nbformat": 4,
 "nbformat_minor": 2
}
