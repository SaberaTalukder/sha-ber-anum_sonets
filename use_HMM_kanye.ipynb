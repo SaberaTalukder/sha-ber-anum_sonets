{
 "cells": [
  {
   "cell_type": "code",
   "execution_count": 1,
   "metadata": {},
   "outputs": [
    {
     "data": {
      "text/plain": [
       "<module 'HMM_helper_processed' from '/Users/sharon/OneDrive/Documents/FirstYear/Winter2020/ML/sha-ber-anum_sonets/HMM_helper_processed.py'>"
      ]
     },
     "execution_count": 1,
     "metadata": {},
     "output_type": "execute_result"
    }
   ],
   "source": [
    "import importlib\n",
    "import os\n",
    "import pickle\n",
    "import re\n",
    "import numpy as np\n",
    "from IPython.display import HTML\n",
    "from jupyterthemes import jtplot\n",
    "jtplot.style()\n",
    "import timeit\n",
    "import urllib3\n",
    "from HMM_george import unsupervised_HMM\n",
    "from HMM_helper_processed import (\n",
    "    text_to_wordcloud,\n",
    "    states_to_wordclouds,\n",
    "    parse_observations,\n",
    "    sample_sentence,\n",
    "    visualize_sparsities,\n",
    "    animate_emission\n",
    ")\n",
    "import HMM_george\n",
    "importlib.reload(HMM_george)\n",
    "import HMM_helper_processed\n",
    "importlib.reload(HMM_helper_processed)"
   ]
  },
  {
   "cell_type": "code",
   "execution_count": 2,
   "metadata": {},
   "outputs": [],
   "source": [
    "# Get saved trained HMM models\n",
    "with open(r\"hmm7_kanye.pickle\", \"rb\") as input_file:\n",
    "    hmm7_kanye = pickle.load(input_file)\n",
    "with open(r\"hmm8_kanye.pickle\", \"rb\") as input_file:\n",
    "    hmm8_kanye = pickle.load(input_file)\n",
    "with open(r\"hmm9_kanye.pickle\", \"rb\") as input_file:\n",
    "    hmm9_kanye = pickle.load(input_file)\n",
    "with open(r\"obs_kanye.pickle\", \"rb\") as input_file:\n",
    "    obs_kanye = pickle.load(input_file)\n",
    "with open(r\"obs_map_kanye.pickle\", \"rb\") as input_file:\n",
    "    obs_map_kanye = pickle.load(input_file)"
   ]
  },
  {
   "cell_type": "code",
   "execution_count": 3,
   "metadata": {},
   "outputs": [],
   "source": [
    "with open(r\"hmm4_shakespeare.pickle\", \"rb\") as input_file:\n",
    "    hmm4_shakespeare = pickle.load(input_file)\n",
    "with open(r\"obs_shakespeare.pickle\", \"rb\") as input_file:\n",
    "    obs_shakespeare = pickle.load(input_file)\n",
    "with open(r\"obs_map_shakespeare.pickle\", \"rb\") as input_file:\n",
    "    obs_map_shakespeare = pickle.load(input_file)"
   ]
  },
  {
   "cell_type": "code",
   "execution_count": 4,
   "metadata": {},
   "outputs": [
    {
     "name": "stdout",
     "output_type": "stream",
     "text": [
      "Away here noted day asshole grave lordly moment glory scar worth hours work plight niggas heart broom-flower...\n",
      "That me kate , , ? ; on , , reputation , , male ought one...\n",
      "; place gone sights , that , , it open , allstate swag . twice ;...\n",
      "Am oops was goes begin be ain^t get backed stay notorious still went mow be fell...\n",
      ", full happy when , shriek where shit wings know , only , back , so...\n",
      ", cribs wolves but , there is out room , , worried , drowns parts ananda...\n",
      "And and so with by do of you is taught that is and on turn at for by...\n"
     ]
    }
   ],
   "source": [
    "arrangement_of_words2 = [9+8, 8+8, 8+8, 8+8, 8+8, 8+8, 9+9]\n",
    "\n",
    "for num_words in arrangement_of_words2:\n",
    "    sentence = sample_sentence(hmm7_kanye, obs_map_kanye, n_words=num_words)\n",
    "    print(sentence)"
   ]
  },
  {
   "cell_type": "code",
   "execution_count": 5,
   "metadata": {},
   "outputs": [
    {
     "name": "stdout",
     "output_type": "stream",
     "text": [
      "The close the the too durst your the this sluttish thy the left invisible succour mild mine...\n",
      "Y^all the your he it^s the whitney but a we i^m hater i we ? gucci...\n",
      "Hands go and ? had goodwill like and birthday take protect contain pulled get on exchange...\n",
      "Will spent worthiness majesty sun eyes fame giuseppe insurrection old sea veins policy legacy love heroes...\n",
      "The the the schizoid our your shallow a earnest a the good her fair earthly harrowed...\n",
      "The the your drossy my rosy the the the costly your your simple bangles false my...\n",
      "Forlorn jacks lily romans best fords eyes eyes dwelling corners more sort space romans friend return word baits...\n"
     ]
    }
   ],
   "source": [
    "arrangement_of_words2 = [9+8, 8+8, 8+8, 8+8, 8+8, 8+8, 9+9]\n",
    "\n",
    "for num_words in arrangement_of_words2:\n",
    "    sentence = sample_sentence(hmm8_kanye, obs_map_kanye, n_words=num_words)\n",
    "    print(sentence)"
   ]
  },
  {
   "cell_type": "code",
   "execution_count": 6,
   "metadata": {},
   "outputs": [
    {
     "name": "stdout",
     "output_type": "stream",
     "text": [
      "To extra-bright idea of from , , , of , determines in nubian dew , party clothes...\n",
      "Skill minds income malice lashes fav caddy star world date pa time chase love new adieu...\n",
      "It just i this virtue i^m you she home you they to they he us shames...\n",
      "Many life good hand wish air over dear dread inner words love blessed fair master mother...\n",
      "Forth to like to in run see get picked am with in that plead way her...\n",
      "Urinal cash times motherfucker best means stress picture were^t heaven life nose siege text bodyguard^s song...\n",
      "A her thy the deepak possession so their lovers^ the your my your the with that whose so...\n"
     ]
    }
   ],
   "source": [
    "arrangement_of_words2 = [9+8, 8+8, 8+8, 8+8, 8+8, 8+8, 9+9]\n",
    "\n",
    "for num_words in arrangement_of_words2:\n",
    "    sentence = sample_sentence(hmm9_kanye, obs_map_kanye, n_words=num_words)\n",
    "    print(sentence)"
   ]
  },
  {
   "cell_type": "code",
   "execution_count": 7,
   "metadata": {},
   "outputs": [
    {
     "name": "stdout",
     "output_type": "stream",
     "text": [
      "Buried it speak is what him appear ^unless ^...\n",
      "It off it^s to i i some it...\n",
      "We we the cars that^s my shots we...\n",
      "Eglantine building numbers dame childlike me skill earth...\n",
      "Whips top hundred tammy goodly iron jasmines armani...\n",
      "And full ? , . ye bale hath...\n",
      "Rests troy 10th love glass niggas parts renew^th...\n",
      "A tv it^d , you i^mma i this...\n",
      "This against and have with in stop got...\n",
      ", take calm and walking then peace gave...\n",
      "Brow eyes peace rink presence fly feet eager...\n",
      "For aunty could right nigga just was channels...\n",
      "Of blam^d which beams untainted warm to thou ,...\n",
      "Ever stoop how often as they limed like and...\n"
     ]
    }
   ],
   "source": [
    "arrangement_of_words = [9, 8, 8, 8, 8, 8, 8, 8, 8, 8, 8, 8, 9, 9]\n",
    "for num_words in arrangement_of_words:\n",
    "    sentence = sample_sentence(hmm8_kanye, obs_map_kanye, n_words=num_words)\n",
    "    print(sentence)"
   ]
  },
  {
   "cell_type": "code",
   "execution_count": 8,
   "metadata": {},
   "outputs": [],
   "source": [
    "def get_stanza(hmm, obs_map):\n",
    "    arrangement_of_words = [9, 8, 8, 8, 8, 8, 8, 8, 8, 8, 8, 8, 9, 9]\n",
    "\n",
    "    sentence = sample_sentence(hmm, obs_map, n_words=115)\n",
    "    sentence_split_by_spaces = sentence.split()\n",
    "    \n",
    "    count = 0\n",
    "    total_num_words_printed = 0\n",
    "    for num_words in arrangement_of_words:\n",
    "        if(count == 0):\n",
    "            sent = \" \".join(sentence_split_by_spaces[0:num_words])\n",
    "            \n",
    "        elif count > 0:\n",
    "            sent = \" \".join(sentence_split_by_spaces[total_num_words_printed: total_num_words_printed + num_words])\n",
    "            \n",
    "        print(sent)\n",
    "        total_num_words_printed += num_words\n",
    "        count += 1"
   ]
  },
  {
   "cell_type": "code",
   "execution_count": 9,
   "metadata": {},
   "outputs": [
    {
     "name": "stdout",
     "output_type": "stream",
     "text": [
      "Offspring self whole christian skill fair light nigga forhead\n",
      "grief away sad way memory few crap love\n",
      "wife cherry beard pride god club brits exit\n",
      "feelings sensitive way more self max year life\n",
      "girl skill woodman question encrimson^d open rose issue\n",
      "thief sight people^s magic minute encompass^d palate crew\n",
      "greater astray election method prey new jot self\n",
      "extremest wheelie fair phoenix up injustice step gross\n",
      "adjunct place eye clothes confined wife ears spoil\n",
      "millions translate mercy girl voices sweet mud might\n",
      "one tomb masculine devils dead looks windy girls\n",
      "new lot arms least on sakes eyes flowers\n",
      "blusterer shot golden not brutus those worth guy more\n",
      "now in bitch new monster clothes by things guns...\n"
     ]
    }
   ],
   "source": [
    "get_stanza(hmm7_kanye, obs_map_kanye)"
   ]
  },
  {
   "cell_type": "code",
   "execution_count": 10,
   "metadata": {},
   "outputs": [
    {
     "name": "stdout",
     "output_type": "stream",
     "text": [
      "Up ^ that what me ? calling is ,\n",
      "and give massacres and if pull cause ?\n",
      "realize that if when mad ^many , should\n",
      "why when is and sex ? nigga but\n",
      "while ? or and why then play of\n",
      "what let me will me when , ?\n",
      "and malibu do that when and if do\n",
      "what now maybe elevators but ^ and what\n",
      "that ? that and but me me z\n",
      "^fore seemed so when now if where and\n",
      "say and nasty have and and turban but\n",
      ", super what with here and and than\n",
      "but are hear is , god casually and nor\n",
      "used test which if so why and are and...\n"
     ]
    }
   ],
   "source": [
    "get_stanza(hmm9_kanye, obs_map_kanye)"
   ]
  },
  {
   "cell_type": "code",
   "execution_count": 11,
   "metadata": {},
   "outputs": [
    {
     "name": "stdout",
     "output_type": "stream",
     "text": [
      "Black i rising what a your we and yo^\n",
      "she tiffany^s everybody you you ne-yo the this\n",
      "damn me what they i your i i\n",
      "you you to you they least i^m it\n",
      "it^ll we i digger it^s i different niggas\n",
      "mj we i your i me no to\n",
      "you i the you we sacks he^s songs\n",
      "i you i it i the a my\n",
      "you i^m real she they somebody a your\n",
      "we next i^m i ? a all me\n",
      "you we my teacher my we to we\n",
      "a to refreshments old you to an she\n",
      "more i hydrate what i^m no she you her\n",
      "i^m the baby i now me it the i...\n"
     ]
    }
   ],
   "source": [
    "get_stanza(hmm8_kanye, obs_map_kanye)"
   ]
  },
  {
   "cell_type": "code",
   "execution_count": 12,
   "metadata": {},
   "outputs": [
    {
     "name": "stdout",
     "output_type": "stream",
     "text": [
      "How and love thou to patent shall extern sworn\n",
      "till will friend that i i^ll wilt and\n",
      "yet to and be true know inheritors if\n",
      "right blesses each just loving sin how and\n",
      "duty follows yet not and are can will\n",
      "and song to no resembling this dear so\n",
      "or but which ^gainst dost nor awards which\n",
      "and love^s cold written when i even swear\n",
      "the did and and then so i doth\n",
      "as doth but heavy all but saith flatter\n",
      "winter glory when that not to whether that\n",
      "divert is so why to added self to\n",
      "more for with were that and ^thus hath not\n",
      "are than which or ere if and is and...\n"
     ]
    }
   ],
   "source": [
    "get_stanza(hmm4_shakespeare, obs_map_shakespeare)"
   ]
  },
  {
   "cell_type": "code",
   "execution_count": 13,
   "metadata": {},
   "outputs": [],
   "source": [
    "def get_lines(hmm, obs_map):\n",
    "    arrangement_of_words = [9, 8, 8, 8, 8, 8, 8, 8, 8, 8, 8, 8, 9, 9]\n",
    "    for num_words in arrangement_of_words:\n",
    "        sentence = sample_sentence(hmm, obs_map_kanye, n_words=num_words)\n",
    "        print(sentence)"
   ]
  },
  {
   "cell_type": "code",
   "execution_count": 14,
   "metadata": {},
   "outputs": [
    {
     "name": "stdout",
     "output_type": "stream",
     "text": [
      "Their me my you the me the a love...\n",
      "Me the his her my it my his...\n",
      "Light minute things glitter blaze tease love general...\n",
      "So infect ? ; - , but right...\n",
      "Yet when nigga next cover that^s keeps strong...\n",
      "Lonely same ohhhhh jacksons more paper eyes doom...\n",
      "In me , of on with buy like...\n",
      "Eyes rat way true door ocean flock gold...\n",
      "Up , , . , . , ,...\n",
      "And i i^ll it^s to i^mma be i...\n",
      ", , , at , , soon ,...\n",
      "What when ye , what , ? ,...\n",
      "Better sovereignty all fill black eye kinds foe vuitton...\n",
      ", , - as blessed while . waits winds...\n"
     ]
    }
   ],
   "source": [
    "get_lines(hmm7_kanye, obs_map_kanye)"
   ]
  },
  {
   "cell_type": "code",
   "execution_count": 15,
   "metadata": {},
   "outputs": [
    {
     "name": "stdout",
     "output_type": "stream",
     "text": [
      "Fits then art me great more reckon and he...\n",
      "^ even but we^ll she not did thou...\n",
      "Only endowed thou till ^tis strong as will...\n",
      "You^re crowning to coral cars by betray touch^d...\n",
      "That drop playboy was ? find got all...\n",
      "With customer night play concealin^ , before just...\n",
      "Right alive boosie rap waiting stop eiffel be...\n",
      "Breeds , , . have dares , thou...\n",
      "Her bump other my sweet her old the...\n",
      "What^s us man you the through i ?...\n",
      "Shifting her a such another the subjects brand...\n",
      "Class can^t , whole niggas dudes never be...\n",
      "His your my her his your greatest my me...\n",
      "Accepted hours loss thee world c^mon love eye prom...\n"
     ]
    }
   ],
   "source": [
    "get_lines(hmm8_kanye, obs_map_kanye)"
   ]
  },
  {
   "cell_type": "code",
   "execution_count": 16,
   "metadata": {},
   "outputs": [
    {
     "name": "stdout",
     "output_type": "stream",
     "text": [
      "Onnn we it leaden cheesecake thou it^s she prayer...\n",
      "Woes garage name grave type untrue heaven sorrow^s...\n",
      "Classic poisonous lady grass wrong time stir which...\n",
      ", dash , , style now ; ....\n",
      "Stomach clock self people sovereign business benz drugs...\n",
      "Disdain top fill resolution kind little object earth...\n",
      "Resounded with send of on in in for...\n",
      "Comes nothing spendin^ niggas to it^s i you...\n",
      ", , tie , , than , ,...\n",
      "Proceed cash still up before carline could who^s...\n",
      "Perfect face unseen blessed blood gay heaven honey...\n",
      ". . see wrong away spring to ?...\n",
      "Cold lonely lies one^s big fresh thought due signs...\n",
      "Shade all on out pleasure own himself grave ménage...\n"
     ]
    }
   ],
   "source": [
    "get_lines(hmm9_kanye, obs_map_kanye)"
   ]
  },
  {
   "cell_type": "code",
   "execution_count": 17,
   "metadata": {},
   "outputs": [
    {
     "name": "stdout",
     "output_type": "stream",
     "text": [
      "Actor gazeth her place other thy forfeit nature^s thine...\n",
      "To greet of canopy still cold hand false...\n",
      "With all heart no on should be bears...\n",
      "Thee , , world every . dost my...\n",
      "On wary true time^s that make in poverty...\n",
      "Contracted pride forwards my my my might might...\n",
      ", to thy themselves time their holds praise...\n",
      "A , beauty^s live grow^st a said in...\n",
      ", clean , elements know^st deceased perfection present...\n",
      "Me helen^s upon thy me , ; in...\n",
      "When but and cruel that love^s shall and...\n",
      "With of store thy a hand uneared burn...\n",
      "Lives want struck with grow^st full take your of...\n",
      "There should or or ere love delight for love...\n"
     ]
    }
   ],
   "source": [
    "get_lines(hmm4_shakespeare, obs_map_shakespeare)"
   ]
  },
  {
   "cell_type": "code",
   "execution_count": 18,
   "metadata": {},
   "outputs": [],
   "source": [
    "import importlib\n",
    "from HMM_george import unsupervised_HMM\n",
    "from HMM_helper_processed import (\n",
    "    text_to_wordcloud,\n",
    "    states_to_wordclouds,\n",
    "    parse_observations,\n",
    "    sample_sentence,\n",
    "    sample_sentence_rhyme,\n",
    "    visualize_sparsities,\n",
    "    animate_emission\n",
    ")\n",
    "import HMM_helper_processed\n",
    "importlib.reload(HMM_helper_processed)\n",
    "\n",
    "def get_rhyme(hmm, obs_map):\n",
    "    rhymes_words = get_rhymes(obs_map)\n",
    "    order_list = [0,2,1,3,4,6,5,7,8,10,9,11,12,13]\n",
    "    for line_idx, num_words in enumerate(arrangement_of_words):\n",
    "        rhyme = obs_map[rhymes_words[order_list[line_idx]]]\n",
    "        sentence = sample_sentence_rhyme(hmm, obs_map, rhyme, n_words=num_words)\n",
    "        print(sentence)"
   ]
  },
  {
   "cell_type": "code",
   "execution_count": 20,
   "metadata": {},
   "outputs": [],
   "source": [
    "import nltk\n",
    "import random\n",
    "\n",
    "def get_rhymes_for_word(inp, level):\n",
    "     entries = nltk.corpus.cmudict.entries()\n",
    "     syllables = [(word, syl) for word, syl in entries if word == inp]\n",
    "     rhymes = []\n",
    "     for (word, syllable) in syllables:\n",
    "         rhymes += [word for word, pron in entries if pron[-level:] == syllable[-level:]]\n",
    "     return list(rhymes)\n",
    "\n",
    "def get_rhymes(obs_map):\n",
    "    rhymes = []\n",
    "    for line in range(7):\n",
    "        rhyme1 = random.sample(list(obs_map), 1)[0]\n",
    "        while '^' in rhyme1:\n",
    "            rhyme1 = random.sample(list(obs_map), 1)[0]\n",
    "        rhymes_for_word = get_rhymes_for_word(rhyme1, 4)\n",
    "        while len(rhymes_for_word) < 3:\n",
    "            rhyme1 = random.sample(list(obs_map), 1)[0]\n",
    "            while '^' in rhyme1:\n",
    "                rhyme1 = random.sample(list(obs_map), 1)[0]\n",
    "            rhymes_for_word = get_rhymes_for_word(rhyme1, 4)\n",
    "        rhyme2 = random.choice(rhymes_for_word)\n",
    "        while rhyme2 not in list(obs_map):\n",
    "            rhyme2 = random.choice(rhymes_for_word)\n",
    "        rhymes.append(rhyme1)\n",
    "        rhymes.append(rhyme2)\n",
    "    return rhymes"
   ]
  },
  {
   "cell_type": "code",
   "execution_count": 21,
   "metadata": {},
   "outputs": [
    {
     "name": "stdout",
     "output_type": "stream",
     "text": [
      "So . one love eclipse sight have . medicine...\n",
      "Take to be desiring after-loss dead thee vexed...\n",
      "Art love thee to , in it medicine...\n",
      "Own lack for is so , evermore annexed...\n",
      "Whilst . swift-footed turn his holy at masonry...\n",
      "Before . out treasure the best had intend...\n",
      "Patience and eyes thine ? , tillage masonry...\n",
      "Hap thing the that , than so tend...\n",
      "To dateless beauty^s in deeds only bold inferior...\n",
      "Not fester anchored steeled will wilful you rebuked...\n",
      ", . me as thoughts yield music inferior...\n",
      "All to , yet up that i rebuked...\n",
      "Shalt that know^st harvest and false by own kept...\n",
      "Enough with men^s dull my all will my kept...\n"
     ]
    }
   ],
   "source": [
    "get_rhyme(hmm4_shakespeare, obs_map_shakespeare)"
   ]
  },
  {
   "cell_type": "code",
   "execution_count": 22,
   "metadata": {},
   "outputs": [
    {
     "name": "stdout",
     "output_type": "stream",
     "text": [
      ", her know i their ain^t then pelle dare...\n",
      "Noise is doth , be don^t even bae...\n",
      "Crimson you never to like harder ah dare...\n",
      "Give i close loathsome , perfection a by...\n",
      "Tell managers be , mean to baby established...\n",
      "Hand have to o seems , art den...\n",
      ". mother louie thinkin^ girl these want established...\n",
      "Waning ^til picking not myspaces time don^t den...\n",
      "One said everybody - hit she horse drawers...\n",
      "Minstrels bring cruel a and respect thoughts worms...\n",
      ", do they myself life^s thinking ^em drawers...\n",
      "Hot being ^tis , sufferance and , worms...\n",
      "Lies a to hate to chauncey , looks sundry...\n",
      "Faith was pearls . hand but , thoughts husbandry...\n"
     ]
    }
   ],
   "source": [
    "get_rhyme(hmm7_kanye, obs_map_kanye)"
   ]
  },
  {
   "cell_type": "code",
   "execution_count": 23,
   "metadata": {},
   "outputs": [
    {
     "name": "stdout",
     "output_type": "stream",
     "text": [
      "Souls with , treasure the breaking brought pick suspicion...\n",
      "Take to stones so wrought sovereign in fancies...\n",
      "No my to soul goodly tear be composition...\n",
      "Ever back happy yeah coloured cold composed fancies...\n",
      "She knew girls started - love from leadership...\n",
      "Who i take , will dignifies not descent...\n",
      "On you shit running now them asked leadership...\n",
      "Laws beauty^s to is heart boundless in descent...\n",
      "I^m now i^m raise driver a ball legit...\n",
      "A , often . flesh face roots adding...\n",
      "My excuse one , is wouldn^t damn legit...\n",
      "One all had to time the all adding...\n",
      "Greatest we cause ring your if the made columbus...\n",
      "When can men keep a but all dumb columbus...\n"
     ]
    }
   ],
   "source": [
    "get_rhyme(hmm8_kanye, obs_map_kanye)"
   ]
  },
  {
   "cell_type": "code",
   "execution_count": null,
   "metadata": {},
   "outputs": [],
   "source": [
    "get_rhyme(hmm9_kanye, obs_map_kanye)"
   ]
  },
  {
   "cell_type": "code",
   "execution_count": null,
   "metadata": {},
   "outputs": [],
   "source": []
  }
 ],
 "metadata": {
  "kernelspec": {
   "display_name": "Python 3",
   "language": "python",
   "name": "python3"
  },
  "language_info": {
   "codemirror_mode": {
    "name": "ipython",
    "version": 3
   },
   "file_extension": ".py",
   "mimetype": "text/x-python",
   "name": "python",
   "nbconvert_exporter": "python",
   "pygments_lexer": "ipython3",
   "version": "3.7.2"
  }
 },
 "nbformat": 4,
 "nbformat_minor": 2
}
