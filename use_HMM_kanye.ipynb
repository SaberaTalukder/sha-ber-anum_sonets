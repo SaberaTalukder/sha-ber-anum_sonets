{
 "cells": [
  {
   "cell_type": "code",
   "execution_count": 1,
   "metadata": {},
   "outputs": [
    {
     "data": {
      "text/plain": [
       "<module 'HMM_helper_processed' from '/Users/sharon/OneDrive/Documents/FirstYear/Winter2020/ML/sha-ber-anum_sonets/HMM_helper_processed.py'>"
      ]
     },
     "execution_count": 1,
     "metadata": {},
     "output_type": "execute_result"
    }
   ],
   "source": [
    "import importlib\n",
    "import os\n",
    "import pickle\n",
    "import re\n",
    "import numpy as np\n",
    "from IPython.display import HTML\n",
    "from jupyterthemes import jtplot\n",
    "jtplot.style()\n",
    "import timeit\n",
    "import urllib3\n",
    "from HMM_george import unsupervised_HMM\n",
    "from HMM_helper_processed import (\n",
    "    text_to_wordcloud,\n",
    "    states_to_wordclouds,\n",
    "    parse_observations,\n",
    "    sample_sentence,\n",
    "    visualize_sparsities,\n",
    "    animate_emission\n",
    ")\n",
    "import HMM_george\n",
    "importlib.reload(HMM_george)\n",
    "import HMM_helper_processed\n",
    "importlib.reload(HMM_helper_processed)"
   ]
  },
  {
   "cell_type": "code",
   "execution_count": 2,
   "metadata": {},
   "outputs": [],
   "source": [
    "# Get saved trained HMM models\n",
    "with open(r\"hmm7_kanye.pickle\", \"rb\") as input_file:\n",
    "    hmm7_kanye = pickle.load(input_file)\n",
    "with open(r\"hmm8_kanye.pickle\", \"rb\") as input_file:\n",
    "    hmm8_kanye = pickle.load(input_file)\n",
    "with open(r\"hmm9_kanye.pickle\", \"rb\") as input_file:\n",
    "    hmm9_kanye = pickle.load(input_file)\n",
    "with open(r\"obs_kanye.pickle\", \"rb\") as input_file:\n",
    "    obs_kanye = pickle.load(input_file)\n",
    "with open(r\"obs_map_kanye.pickle\", \"rb\") as input_file:\n",
    "    obs_map_kanye = pickle.load(input_file)"
   ]
  },
  {
   "cell_type": "code",
   "execution_count": 3,
   "metadata": {},
   "outputs": [],
   "source": [
    "with open(r\"hmm4_shakespeare.pickle\", \"rb\") as input_file:\n",
    "    hmm4_shakespeare = pickle.load(input_file)\n",
    "with open(r\"obs_shakespeare.pickle\", \"rb\") as input_file:\n",
    "    obs_shakespeare = pickle.load(input_file)\n",
    "with open(r\"obs_map_shakespeare.pickle\", \"rb\") as input_file:\n",
    "    obs_map_shakespeare = pickle.load(input_file)"
   ]
  },
  {
   "cell_type": "code",
   "execution_count": 4,
   "metadata": {},
   "outputs": [
    {
     "name": "stdout",
     "output_type": "stream",
     "text": [
      "Away here noted day asshole grave lordly moment glory scar worth hours work plight niggas heart broom-flower...\n",
      "That me kate , , ? ; on , , reputation , , male ought one...\n",
      "; place gone sights , that , , it open , allstate swag . twice ;...\n",
      "Am oops was goes begin be ain^t get backed stay notorious still went mow be fell...\n",
      ", full happy when , shriek where shit wings know , only , back , so...\n",
      ", cribs wolves but , there is out room , , worried , drowns parts ananda...\n",
      "And and so with by do of you is taught that is and on turn at for by...\n"
     ]
    }
   ],
   "source": [
    "arrangement_of_words2 = [9+8, 8+8, 8+8, 8+8, 8+8, 8+8, 9+9]\n",
    "\n",
    "for num_words in arrangement_of_words2:\n",
    "    sentence = sample_sentence(hmm7_kanye, obs_map_kanye, n_words=num_words)\n",
    "    print(sentence)"
   ]
  },
  {
   "cell_type": "code",
   "execution_count": 5,
   "metadata": {},
   "outputs": [
    {
     "name": "stdout",
     "output_type": "stream",
     "text": [
      "The close the the too durst your the this sluttish thy the left invisible succour mild mine...\n",
      "Y^all the your he it^s the whitney but a we i^m hater i we ? gucci...\n",
      "Hands go and ? had goodwill like and birthday take protect contain pulled get on exchange...\n",
      "Will spent worthiness majesty sun eyes fame giuseppe insurrection old sea veins policy legacy love heroes...\n",
      "The the the schizoid our your shallow a earnest a the good her fair earthly harrowed...\n",
      "The the your drossy my rosy the the the costly your your simple bangles false my...\n",
      "Forlorn jacks lily romans best fords eyes eyes dwelling corners more sort space romans friend return word baits...\n"
     ]
    }
   ],
   "source": [
    "arrangement_of_words2 = [9+8, 8+8, 8+8, 8+8, 8+8, 8+8, 9+9]\n",
    "\n",
    "for num_words in arrangement_of_words2:\n",
    "    sentence = sample_sentence(hmm8_kanye, obs_map_kanye, n_words=num_words)\n",
    "    print(sentence)"
   ]
  },
  {
   "cell_type": "code",
   "execution_count": 6,
   "metadata": {},
   "outputs": [
    {
     "name": "stdout",
     "output_type": "stream",
     "text": [
      "To extra-bright idea of from , , , of , determines in nubian dew , party clothes...\n",
      "Skill minds income malice lashes fav caddy star world date pa time chase love new adieu...\n",
      "It just i this virtue i^m you she home you they to they he us shames...\n",
      "Many life good hand wish air over dear dread inner words love blessed fair master mother...\n",
      "Forth to like to in run see get picked am with in that plead way her...\n",
      "Urinal cash times motherfucker best means stress picture were^t heaven life nose siege text bodyguard^s song...\n",
      "A her thy the deepak possession so their lovers^ the your my your the with that whose so...\n"
     ]
    }
   ],
   "source": [
    "arrangement_of_words2 = [9+8, 8+8, 8+8, 8+8, 8+8, 8+8, 9+9]\n",
    "\n",
    "for num_words in arrangement_of_words2:\n",
    "    sentence = sample_sentence(hmm9_kanye, obs_map_kanye, n_words=num_words)\n",
    "    print(sentence)"
   ]
  },
  {
   "cell_type": "code",
   "execution_count": 7,
   "metadata": {},
   "outputs": [
    {
     "name": "stdout",
     "output_type": "stream",
     "text": [
      "Buried it speak is what him appear ^unless ^...\n",
      "It off it^s to i i some it...\n",
      "We we the cars that^s my shots we...\n",
      "Eglantine building numbers dame childlike me skill earth...\n",
      "Whips top hundred tammy goodly iron jasmines armani...\n",
      "And full ? , . ye bale hath...\n",
      "Rests troy 10th love glass niggas parts renew^th...\n",
      "A tv it^d , you i^mma i this...\n",
      "This against and have with in stop got...\n",
      ", take calm and walking then peace gave...\n",
      "Brow eyes peace rink presence fly feet eager...\n",
      "For aunty could right nigga just was channels...\n",
      "Of blam^d which beams untainted warm to thou ,...\n",
      "Ever stoop how often as they limed like and...\n"
     ]
    }
   ],
   "source": [
    "arrangement_of_words = [9, 8, 8, 8, 8, 8, 8, 8, 8, 8, 8, 8, 9, 9]\n",
    "for num_words in arrangement_of_words:\n",
    "    sentence = sample_sentence(hmm8_kanye, obs_map_kanye, n_words=num_words)\n",
    "    print(sentence)"
   ]
  },
  {
   "cell_type": "code",
   "execution_count": 8,
   "metadata": {},
   "outputs": [],
   "source": [
    "def get_stanza(hmm, obs_map):\n",
    "    arrangement_of_words = [9, 8, 8, 8, 8, 8, 8, 8, 8, 8, 8, 8, 9, 9]\n",
    "\n",
    "    sentence = sample_sentence(hmm, obs_map, n_words=115)\n",
    "    sentence_split_by_spaces = sentence.split()\n",
    "    \n",
    "    count = 0\n",
    "    total_num_words_printed = 0\n",
    "    for num_words in arrangement_of_words:\n",
    "        if(count == 0):\n",
    "            sent = \" \".join(sentence_split_by_spaces[0:num_words])\n",
    "            \n",
    "        elif count > 0:\n",
    "            sent = \" \".join(sentence_split_by_spaces[total_num_words_printed: total_num_words_printed + num_words])\n",
    "            \n",
    "        print(sent)\n",
    "        total_num_words_printed += num_words\n",
    "        count += 1"
   ]
  },
  {
   "cell_type": "code",
   "execution_count": 9,
   "metadata": {},
   "outputs": [
    {
     "name": "stdout",
     "output_type": "stream",
     "text": [
      "Offspring self whole christian skill fair light nigga forhead\n",
      "grief away sad way memory few crap love\n",
      "wife cherry beard pride god club brits exit\n",
      "feelings sensitive way more self max year life\n",
      "girl skill woodman question encrimson^d open rose issue\n",
      "thief sight people^s magic minute encompass^d palate crew\n",
      "greater astray election method prey new jot self\n",
      "extremest wheelie fair phoenix up injustice step gross\n",
      "adjunct place eye clothes confined wife ears spoil\n",
      "millions translate mercy girl voices sweet mud might\n",
      "one tomb masculine devils dead looks windy girls\n",
      "new lot arms least on sakes eyes flowers\n",
      "blusterer shot golden not brutus those worth guy more\n",
      "now in bitch new monster clothes by things guns...\n"
     ]
    }
   ],
   "source": [
    "get_stanza(hmm7_kanye, obs_map_kanye)"
   ]
  },
  {
   "cell_type": "code",
   "execution_count": 10,
   "metadata": {},
   "outputs": [
    {
     "name": "stdout",
     "output_type": "stream",
     "text": [
      "Up ^ that what me ? calling is ,\n",
      "and give massacres and if pull cause ?\n",
      "realize that if when mad ^many , should\n",
      "why when is and sex ? nigga but\n",
      "while ? or and why then play of\n",
      "what let me will me when , ?\n",
      "and malibu do that when and if do\n",
      "what now maybe elevators but ^ and what\n",
      "that ? that and but me me z\n",
      "^fore seemed so when now if where and\n",
      "say and nasty have and and turban but\n",
      ", super what with here and and than\n",
      "but are hear is , god casually and nor\n",
      "used test which if so why and are and...\n"
     ]
    }
   ],
   "source": [
    "get_stanza(hmm9_kanye, obs_map_kanye)"
   ]
  },
  {
   "cell_type": "code",
   "execution_count": 11,
   "metadata": {},
   "outputs": [
    {
     "name": "stdout",
     "output_type": "stream",
     "text": [
      "Black i rising what a your we and yo^\n",
      "she tiffany^s everybody you you ne-yo the this\n",
      "damn me what they i your i i\n",
      "you you to you they least i^m it\n",
      "it^ll we i digger it^s i different niggas\n",
      "mj we i your i me no to\n",
      "you i the you we sacks he^s songs\n",
      "i you i it i the a my\n",
      "you i^m real she they somebody a your\n",
      "we next i^m i ? a all me\n",
      "you we my teacher my we to we\n",
      "a to refreshments old you to an she\n",
      "more i hydrate what i^m no she you her\n",
      "i^m the baby i now me it the i...\n"
     ]
    }
   ],
   "source": [
    "get_stanza(hmm8_kanye, obs_map_kanye)"
   ]
  },
  {
   "cell_type": "code",
   "execution_count": 12,
   "metadata": {},
   "outputs": [
    {
     "name": "stdout",
     "output_type": "stream",
     "text": [
      "How and love thou to patent shall extern sworn\n",
      "till will friend that i i^ll wilt and\n",
      "yet to and be true know inheritors if\n",
      "right blesses each just loving sin how and\n",
      "duty follows yet not and are can will\n",
      "and song to no resembling this dear so\n",
      "or but which ^gainst dost nor awards which\n",
      "and love^s cold written when i even swear\n",
      "the did and and then so i doth\n",
      "as doth but heavy all but saith flatter\n",
      "winter glory when that not to whether that\n",
      "divert is so why to added self to\n",
      "more for with were that and ^thus hath not\n",
      "are than which or ere if and is and...\n"
     ]
    }
   ],
   "source": [
    "get_stanza(hmm4_shakespeare, obs_map_shakespeare)"
   ]
  },
  {
   "cell_type": "code",
   "execution_count": 13,
   "metadata": {},
   "outputs": [],
   "source": [
    "def get_lines(hmm, obs_map):\n",
    "    arrangement_of_words = [9, 8, 8, 8, 8, 8, 8, 8, 8, 8, 8, 8, 9, 9]\n",
    "    for num_words in arrangement_of_words:\n",
    "        sentence = sample_sentence(hmm, obs_map_kanye, n_words=num_words)\n",
    "        print(sentence)"
   ]
  },
  {
   "cell_type": "code",
   "execution_count": 14,
   "metadata": {},
   "outputs": [
    {
     "name": "stdout",
     "output_type": "stream",
     "text": [
      "Their me my you the me the a love...\n",
      "Me the his her my it my his...\n",
      "Light minute things glitter blaze tease love general...\n",
      "So infect ? ; - , but right...\n",
      "Yet when nigga next cover that^s keeps strong...\n",
      "Lonely same ohhhhh jacksons more paper eyes doom...\n",
      "In me , of on with buy like...\n",
      "Eyes rat way true door ocean flock gold...\n",
      "Up , , . , . , ,...\n",
      "And i i^ll it^s to i^mma be i...\n",
      ", , , at , , soon ,...\n",
      "What when ye , what , ? ,...\n",
      "Better sovereignty all fill black eye kinds foe vuitton...\n",
      ", , - as blessed while . waits winds...\n"
     ]
    }
   ],
   "source": [
    "get_lines(hmm7_kanye, obs_map_kanye)"
   ]
  },
  {
   "cell_type": "code",
   "execution_count": 15,
   "metadata": {},
   "outputs": [
    {
     "name": "stdout",
     "output_type": "stream",
     "text": [
      "Fits then art me great more reckon and he...\n",
      "^ even but we^ll she not did thou...\n",
      "Only endowed thou till ^tis strong as will...\n",
      "You^re crowning to coral cars by betray touch^d...\n",
      "That drop playboy was ? find got all...\n",
      "With customer night play concealin^ , before just...\n",
      "Right alive boosie rap waiting stop eiffel be...\n",
      "Breeds , , . have dares , thou...\n",
      "Her bump other my sweet her old the...\n",
      "What^s us man you the through i ?...\n",
      "Shifting her a such another the subjects brand...\n",
      "Class can^t , whole niggas dudes never be...\n",
      "His your my her his your greatest my me...\n",
      "Accepted hours loss thee world c^mon love eye prom...\n"
     ]
    }
   ],
   "source": [
    "get_lines(hmm8_kanye, obs_map_kanye)"
   ]
  },
  {
   "cell_type": "code",
   "execution_count": 16,
   "metadata": {},
   "outputs": [
    {
     "name": "stdout",
     "output_type": "stream",
     "text": [
      "Onnn we it leaden cheesecake thou it^s she prayer...\n",
      "Woes garage name grave type untrue heaven sorrow^s...\n",
      "Classic poisonous lady grass wrong time stir which...\n",
      ", dash , , style now ; ....\n",
      "Stomach clock self people sovereign business benz drugs...\n",
      "Disdain top fill resolution kind little object earth...\n",
      "Resounded with send of on in in for...\n",
      "Comes nothing spendin^ niggas to it^s i you...\n",
      ", , tie , , than , ,...\n",
      "Proceed cash still up before carline could who^s...\n",
      "Perfect face unseen blessed blood gay heaven honey...\n",
      ". . see wrong away spring to ?...\n",
      "Cold lonely lies one^s big fresh thought due signs...\n",
      "Shade all on out pleasure own himself grave ménage...\n"
     ]
    }
   ],
   "source": [
    "get_lines(hmm9_kanye, obs_map_kanye)"
   ]
  },
  {
   "cell_type": "code",
   "execution_count": 17,
   "metadata": {},
   "outputs": [
    {
     "name": "stdout",
     "output_type": "stream",
     "text": [
      "Actor gazeth her place other thy forfeit nature^s thine...\n",
      "To greet of canopy still cold hand false...\n",
      "With all heart no on should be bears...\n",
      "Thee , , world every . dost my...\n",
      "On wary true time^s that make in poverty...\n",
      "Contracted pride forwards my my my might might...\n",
      ", to thy themselves time their holds praise...\n",
      "A , beauty^s live grow^st a said in...\n",
      ", clean , elements know^st deceased perfection present...\n",
      "Me helen^s upon thy me , ; in...\n",
      "When but and cruel that love^s shall and...\n",
      "With of store thy a hand uneared burn...\n",
      "Lives want struck with grow^st full take your of...\n",
      "There should or or ere love delight for love...\n"
     ]
    }
   ],
   "source": [
    "get_lines(hmm4_shakespeare, obs_map_shakespeare)"
   ]
  },
  {
   "cell_type": "code",
   "execution_count": 33,
   "metadata": {},
   "outputs": [],
   "source": [
    "import importlib\n",
    "from HMM_george import unsupervised_HMM\n",
    "from HMM_helper_processed import (\n",
    "    text_to_wordcloud,\n",
    "    states_to_wordclouds,\n",
    "    parse_observations,\n",
    "    sample_sentence,\n",
    "    sample_sentence_rhyme,\n",
    "    visualize_sparsities,\n",
    "    animate_emission\n",
    ")\n",
    "import HMM_helper_processed\n",
    "importlib.reload(HMM_helper_processed)\n",
    "\n",
    "def get_rhyme(hmm, obs_map):\n",
    "    rhymes_words = get_rhymes(obs_map)\n",
    "    order_list = [0,2,1,3,4,6,5,7,8,10,9,11,12,13]\n",
    "    for line_idx, num_words in enumerate(arrangement_of_words):\n",
    "        rhyme = obs_map[rhymes_words[order_list[line_idx]]]\n",
    "        sentence = sample_sentence_rhyme(hmm, obs_map, rhyme, n_words=num_words)\n",
    "#         sentence = re.sub(\"^\", \"'\", sentence)\n",
    "        print(sentence)"
   ]
  },
  {
   "cell_type": "code",
   "execution_count": 34,
   "metadata": {},
   "outputs": [],
   "source": [
    "import nltk\n",
    "import random\n",
    "\n",
    "def get_rhymes_for_word(inp, level):\n",
    "     entries = nltk.corpus.cmudict.entries()\n",
    "     syllables = [(word, syl) for word, syl in entries if word == inp]\n",
    "     rhymes = []\n",
    "     for (word, syllable) in syllables:\n",
    "         rhymes += [word for word, pron in entries if pron[-level:] == syllable[-level:]]\n",
    "     return list(rhymes)\n",
    "\n",
    "def get_rhymes(obs_map):\n",
    "    rhymes = []\n",
    "    for line in range(7):\n",
    "        rhyme1 = random.sample(list(obs_map), 1)[0]\n",
    "        while '^' in rhyme1:\n",
    "            rhyme1 = random.sample(list(obs_map), 1)[0]\n",
    "        rhymes_for_word = get_rhymes_for_word(rhyme1, 4)\n",
    "        while len(rhymes_for_word) < 3:\n",
    "            rhyme1 = random.sample(list(obs_map), 1)[0]\n",
    "            while '^' in rhyme1:\n",
    "                rhyme1 = random.sample(list(obs_map), 1)[0]\n",
    "            rhymes_for_word = get_rhymes_for_word(rhyme1, 4)\n",
    "        rhyme2 = random.choice(rhymes_for_word)\n",
    "        while rhyme2 not in list(obs_map):\n",
    "            rhyme2 = random.choice(rhymes_for_word)\n",
    "        rhymes.append(rhyme1)\n",
    "        rhymes.append(rhyme2)\n",
    "    return rhymes"
   ]
  },
  {
   "cell_type": "code",
   "execution_count": 42,
   "metadata": {},
   "outputs": [],
   "source": [
    "# Get saved trained HMM models\n",
    "with open(r\"hmm6_kanye_backward.pickle\", \"rb\") as input_file:\n",
    "    hmm6_kanye_backward = pickle.load(input_file)\n",
    "with open(r\"hmm7_kanye_backward.pickle\", \"rb\") as input_file:\n",
    "    hmm7_kanye_backward = pickle.load(input_file)\n",
    "with open(r\"hmm8_kanye_backward.pickle\", \"rb\") as input_file:\n",
    "    hmm8_kanye_backward = pickle.load(input_file)\n",
    "with open(r\"hmm9_kanye_backward.pickle\", \"rb\") as input_file:\n",
    "    hmm9_kanye_backward = pickle.load(input_file)\n",
    "with open(r\"hmm10_kanye_backward.pickle\", \"rb\") as input_file:\n",
    "    hmm10_kanye_backward = pickle.load(input_file)\n",
    "with open(r\"obs_backward_kanye.pickle\", \"rb\") as input_file:\n",
    "    obs_kanye_backward = pickle.load(input_file)"
   ]
  },
  {
   "cell_type": "code",
   "execution_count": 43,
   "metadata": {},
   "outputs": [
    {
     "name": "stdout",
     "output_type": "stream",
     "text": [
      "All control that these check , that^s majesty notary...\n",
      "Accounts trade my birthday in me with t...\n",
      ", bestow^st , ^hast my checkbook all notary...\n",
      "Blood before you lose i keep the tee...\n",
      "Told brag we see viper^s son she yourselves...\n",
      "Her maryland worth of we change eighty marigolds...\n",
      "From her envy i colour^d so i^m ourselves...\n",
      "Now zone what left you know you^re marigolds...\n",
      "? in clean present . with i bred...\n",
      "Mess party i ever in thee admire whose...\n",
      "Whips , thy launched have keep you bred...\n",
      "Was jumpman was and to flattered joint whose...\n",
      ", been to ink to pass not it text...\n",
      "Count one thy who , smiling the stacks next...\n"
     ]
    }
   ],
   "source": [
    "get_rhyme(hmm7_kanye_backward, obs_map_kanye)"
   ]
  },
  {
   "cell_type": "code",
   "execution_count": 44,
   "metadata": {},
   "outputs": [
    {
     "name": "stdout",
     "output_type": "stream",
     "text": [
      "Of last high off , and ye kept tempered...\n",
      "Up , election is hip-hop plain , admiration...\n",
      ", this for a self wit that tempered...\n",
      "New right in on , and struck variation...\n",
      "Have some to pleasure tom don^t assholes brazen...\n",
      "In cancell^d shorty , persueth and quit dealerships...\n",
      "Do show , would come the confounds brazen...\n",
      "And for enfold as feeling i mad dealerships...\n",
      "For every mouth , is but this ordinary...\n",
      "Saw from ayo , her baby in staples...\n",
      "Was i henceforth cunning to is his visionary...\n",
      "Lovers dulling the unrest . for sleeping nipples...\n",
      ", sister that mournful we to don^t washin^ desert...\n",
      "White ride homie molly up who lo , dessert...\n"
     ]
    }
   ],
   "source": [
    "get_rhyme(hmm8_kanye_backward, obs_map_kanye)"
   ]
  },
  {
   "cell_type": "code",
   "execution_count": 45,
   "metadata": {},
   "outputs": [
    {
     "name": "stdout",
     "output_type": "stream",
     "text": [
      ", that i get the diamonds , the evil...\n",
      "I like the hand , , ma em...\n",
      "Sinful bitch . again or dom your evil...\n",
      "The wayne , better inspired up strong m...\n",
      "Me rome can is wit breast your devouring...\n",
      "Already it upon their his care , sonic...\n",
      "Your pity call me out a that devouring...\n",
      "Do sell , piss i^m told be ironic...\n",
      "To get dying flame and on these packaging...\n",
      "Might fuck fair that i like bequeath mingled...\n",
      "To really , everybody i fear her packaging...\n",
      "I gave the johnson freak , do mingled...\n",
      "Eyes , i talking cause but with hot clerk...\n",
      "The grind to six , huh at every clerk...\n"
     ]
    }
   ],
   "source": [
    "get_rhyme(hmm9_kanye_backward, obs_map_kanye)"
   ]
  },
  {
   "cell_type": "code",
   "execution_count": 46,
   "metadata": {},
   "outputs": [
    {
     "name": "stdout",
     "output_type": "stream",
     "text": [
      "Hoes they and that espied . needed their spectacle...\n",
      "Not ass only ego , like the rapper...\n",
      "Her guy but she , and blast chemical...\n",
      "Never to mad i , on no rapper...\n",
      "I got all steepy strong gon^ that assured...\n",
      "She , can piss thou thinks that concord...\n",
      "^o bones that^s awhile turn for a assured...\n",
      "Advantage can kill , her up a concord...\n",
      "Kill awaketh the me wall , tight betraying...\n",
      ", so having die tonight in ! immortality...\n",
      "Look , he blazin^ ! louis , praying...\n",
      ", her hov and or , niggas humility...\n",
      "And not like but make a eyes , glisten...\n",
      "But had well barely you goat serato it listen...\n"
     ]
    }
   ],
   "source": [
    "get_rhyme(hmm6_kanye_backward, obs_map_kanye)"
   ]
  },
  {
   "cell_type": "code",
   "execution_count": 47,
   "metadata": {},
   "outputs": [
    {
     "name": "stdout",
     "output_type": "stream",
     "text": [
      "That by how man , got i^m hell projects...\n",
      "Such every gods , yet , the shoot...\n",
      "Which columbines thoughts strangely so could summer^s objects...\n",
      "A i would turn the stupid , shoot...\n",
      ", i out-going this , hopes my sanity...\n",
      "Freshness welcome rocka i get with records preaching...\n",
      "Naked boobies ten my glass had envy opportunity...\n",
      "To stand fight , ^ , and teaching...\n",
      "Me big as how dick keep off nightclub...\n",
      "Hand the and to i^m called my whale...\n",
      "Pour know you hoodie big wins up nightclub...\n",
      "Freshness never a fuck a just up whale...\n",
      "! responsibilities thing we done up thing and psychiatrist...\n",
      ", beyond respect , move my day at interest...\n"
     ]
    }
   ],
   "source": [
    "get_rhyme(hmm10_kanye_backward, obs_map_kanye)"
   ]
  },
  {
   "cell_type": "code",
   "execution_count": 48,
   "metadata": {},
   "outputs": [],
   "source": [
    "# Get saved trained HMM models\n",
    "with open(r\"hmm6_2000iters_kanye_backward.pickle\", \"rb\") as input_file:\n",
    "    hmm6_2000iters_kanye_backward = pickle.load(input_file)\n",
    "with open(r\"hmm7_2000iters_kanye_backward.pickle\", \"rb\") as input_file:\n",
    "    hmm7_2000iters_kanye_backward = pickle.load(input_file)\n",
    "with open(r\"hmm8_2000iters_kanye_backward.pickle\", \"rb\") as input_file:\n",
    "    hmm8_2000iters_kanye_backward = pickle.load(input_file)\n",
    "with open(r\"hmm9_2000iters_kanye_backward.pickle\", \"rb\") as input_file:\n",
    "    hmm9_2000iters_kanye_backward = pickle.load(input_file)\n",
    "# with open(r\"hmm10_2000iters_kanye_backward.pickle\", \"rb\") as input_file:\n",
    "#     hmm10_2000iters_kanye_backward = pickle.load(input_file)\n",
    "with open(r\"obs_backward_kanye.pickle\", \"rb\") as input_file:\n",
    "    obs_kanye_backward = pickle.load(input_file)"
   ]
  },
  {
   "cell_type": "code",
   "execution_count": 56,
   "metadata": {},
   "outputs": [
    {
     "name": "stdout",
     "output_type": "stream",
     "text": [
      "hmm6_2000iters_kanye_backward:\n",
      "When without unreave birth , at a my huntsman...\n",
      "The name . give scottie for your ruffle...\n",
      "The party and ^thou , when three horseman...\n",
      "Wide roses was saying and , curious ruffle...\n",
      "This the war , so russell needeth parties...\n",
      "Me deal broke still back that who opens...\n",
      "Up argue me that me unwisely freshly parties...\n",
      ", ya to good questions you goodwill happens...\n",
      "Suborned hand to to , taken should seated...\n",
      "Spite goodbye this is models in sweet bis...\n",
      "Raised new countenance ask up yeah , seated...\n",
      "Lust say from beauty^s press not pure bis...\n",
      "I i about we ? die still good basement...\n",
      "Through wack glory thou . doth in of announcement...\n",
      "\n",
      "hmm7_2000iters_kanye_backward:\n",
      "Crazy and cruel right in no invent , controlling...\n",
      "It vuitton i avails money i love sets...\n",
      "I wanna want the end thats would consoling...\n",
      "Call one it break . and how sets...\n",
      "Devil fallin^ the leaves time , me expecting...\n",
      "Wary both whole . ^i sought eyes thrives...\n",
      "Show husband^s long even she ain^t to acting...\n",
      "Chivalry these root before might just sad strives...\n",
      "That heavenly own the pen to call following...\n",
      "Sat , keep about the will say remembrance...\n",
      "My stamp^d since ! they call of following...\n",
      "To got up , and were respect fragrance...\n",
      "Go like patient kanye i say when i society...\n",
      "Was abroad toys are not tell shore the piety...\n",
      "\n",
      "hmm8_2000iters_kanye_backward:\n",
      "Said rail balance he said not ball you repent...\n",
      "You know livin^ of life to him zeroes...\n",
      ", who once first-born i^m i^ll tour repent...\n",
      "Neck back in contending niggas , the heroes...\n",
      "Fairest is you or and a bitch commend...\n",
      "Fly ^fool , and woulda themselves she surrounded...\n",
      "Maketh now , that^s i get i mend...\n",
      "Day , up hard his star , compounded...\n",
      "Retire , you done as life^s equal amorous...\n",
      "I much well and strip one , leaving...\n",
      "Enemies in the worser , but of amorous...\n",
      "Amorously tell , my ^sixth orphans mourning receiving...\n",
      "Lamar false vice . this new-appearing year but doo...\n",
      "Slaves it blame dealer hiding it - the dew...\n",
      "\n",
      "hmm9_2000iters_kanye_backward:\n",
      "Light in k-rock in the akbar in fleeting harvey...\n",
      "Lucrece^ cream but and you do thee privileged...\n",
      ", their praise which spouses through his harvey...\n",
      "It them things sighs o wish . privileged...\n",
      ", and like rap lay rascal that hoes...\n",
      "Part his the skill persuade the oak^s hennessy...\n",
      ". with is no his system the hoes...\n",
      "On who and be , each black fantasy...\n",
      "See karma when if ^cause his his collar...\n",
      "Ballers , coldly a 1800s whose only officially...\n",
      "Used where his middle determined a plants collar...\n",
      "People , i choking enough fathers this officially...\n",
      "Pajamas of my love odds absence anxious and retire...\n",
      "Sun knew baby to in her man it retire...\n"
     ]
    }
   ],
   "source": [
    "print('hmm6_2000iters_kanye_backward:')\n",
    "get_rhyme(hmm6_2000iters_kanye_backward, obs_map_kanye)\n",
    "print('')\n",
    "print('hmm7_2000iters_kanye_backward:')\n",
    "get_rhyme(hmm7_2000iters_kanye_backward, obs_map_kanye)\n",
    "print('')\n",
    "print('hmm8_2000iters_kanye_backward:')\n",
    "get_rhyme(hmm8_2000iters_kanye_backward, obs_map_kanye)\n",
    "print('')\n",
    "print('hmm9_2000iters_kanye_backward:')\n",
    "get_rhyme(hmm9_2000iters_kanye_backward, obs_map_kanye)"
   ]
  },
  {
   "cell_type": "code",
   "execution_count": 51,
   "metadata": {},
   "outputs": [
    {
     "name": "stdout",
     "output_type": "stream",
     "text": [
      "hmm6_2000iters_kanye_backward:\n",
      "Like her i short shining a both psychic drops...\n",
      ", i ain^t yeah i am for constrain...\n",
      "London house , but down in her crops...\n",
      "Face to endin^ trust ; by sugar^d train...\n",
      "Bears fair ornaments , was their time^s enlarged...\n",
      "Sun , sparks big brother them down girls...\n",
      "Know yo ? of word wasn^t shall discharged...\n",
      "A thing out the hand for of girls...\n",
      "Dear with the perpetual , by stewards persist...\n",
      "Tell , with fair cross that men idiot...\n",
      ", but bring find a assay i^m persist...\n",
      "Them yo this . don^t wooed sleepy idiot...\n",
      "Call the classic action , yield . off freezing...\n",
      "Far rapped from sick yet^ i , the freezing...\n",
      "\n",
      "hmm7_2000iters_kanye_backward:\n",
      "The stained concealing when doth serve caesar and according...\n",
      "Now thou hate and pitiful slaughter pictures ordained...\n",
      "^a i attended with she , is according...\n",
      "You never you without car mama , ordained...\n",
      "Don^t i strong wagg^d , and hard strange...\n",
      "Kill is in heart it^s should the fulfilled...\n",
      "To save the ire that^s my shows strange...\n",
      "A night not even the tear . fulfilled...\n",
      "Way now i by at and an mustering...\n",
      "And that unperfect textile ah to creatures vary...\n",
      "Go brought it with thy we inspired flattering...\n",
      "Said gown so gon hurt at al very...\n",
      "Cousins is many . . from i know sustaining...\n",
      "Vows like i love the it sings not gaining...\n",
      "\n",
      "hmm8_2000iters_kanye_backward:\n",
      "By go so you damn we to say nah...\n",
      "Brutus of lucrece^ night speeds , around lust...\n",
      "It to commit , her a name nah...\n",
      "? for the tyrant , cell that^s lust...\n",
      "Pack where in endure racks plus still sorted...\n",
      ", us to made heavenly leach ^bout posterity...\n",
      "Third he breeze go to clothe now started...\n",
      "The roc , why length pleasure a impurity...\n",
      "Seen removed that and a place to actors...\n",
      "Make by a heaven , solemn y^all behold...\n",
      "I tried i keep let at the characters...\n",
      "Was a ass i love powerful afraid behold...\n",
      "Arrogance they phoebus^ one car wrestlers nowhere but whitney...\n",
      "It . tryst and ^ like my beat whitney...\n",
      "\n",
      "hmm9_2000iters_kanye_backward:\n",
      "Foe that are am be too wrong melt sleepy...\n",
      "Like the quality , simois^ by have scorn...\n",
      "The heart to cost behold up foes sleepy...\n",
      "? i^m will down gucci hablo stuck corn...\n",
      "Whole lawyer i ought what you stain begotten...\n",
      "- thee lips gon^ sent say wet amplify...\n",
      "A her lies what thus most at begotten...\n",
      "A wounds ? gave the kids ask amplify...\n",
      "And hath feel lonely heaven^ll lot men speeches...\n",
      "What thou flake ? finding women^s the tantrum...\n",
      "Did bad like , tell he say speeches...\n",
      "And are and intituled to the world^s tantrum...\n",
      "Is calling - i pictures niggas chopt to green...\n",
      "To loved that no ring , , make green...\n"
     ]
    }
   ],
   "source": [
    "print('hmm6_2000iters_kanye_backward:')\n",
    "get_rhyme(hmm6_2000iters_kanye_backward, obs_map_kanye)\n",
    "print('')\n",
    "print('hmm7_2000iters_kanye_backward:')\n",
    "get_rhyme(hmm7_2000iters_kanye_backward, obs_map_kanye)\n",
    "print('')\n",
    "print('hmm8_2000iters_kanye_backward:')\n",
    "get_rhyme(hmm8_2000iters_kanye_backward, obs_map_kanye)\n",
    "print('')\n",
    "print('hmm9_2000iters_kanye_backward:')\n",
    "get_rhyme(hmm9_2000iters_kanye_backward, obs_map_kanye)"
   ]
  },
  {
   "cell_type": "code",
   "execution_count": 55,
   "metadata": {},
   "outputs": [
    {
     "name": "stdout",
     "output_type": "stream",
     "text": [
      "hmm7_10iters_kanye_backward:\n",
      "? it spilling fight if niggas , posterity saving...\n",
      "Play , hope their that why 9 split...\n",
      "A you mine we a shade ? braving...\n",
      ", , don^t who^s front man lie split...\n",
      ". nymphs got like conscience as bartender ourselves...\n",
      "The vows doja faces in is a laser...\n",
      "Tongue the , i the i all shelves...\n",
      "Shame with to whose sporting okay the lazer...\n",
      "My alone eyes me , who breast herb...\n",
      "To fair sight use need konnichiwa got emotions...\n",
      "As world^s is came the woeful the herb...\n",
      "The floor ! , him i , descriptions...\n",
      "Am , right passed the 4 think fastly wrinkled...\n",
      "Jesus , what so no reveal mad here tickled...\n",
      "\n",
      "hmm8_10iters_kanye_backward:\n",
      "Ei to doth couldn^t in captive the that entreaty...\n",
      "Life , my must girl he but inflict...\n",
      "Seem spare torment crew^s pull acid i entreaty...\n",
      "The your effects writing changed was made afflict...\n",
      "Forth mortgaged thy i the on of impressive...\n",
      "His probably more , wrack nothing on define...\n",
      "No has , , die what hurting impressive...\n",
      "Ass to o are most at said define...\n",
      "Of hand why doth the rings of extant...\n",
      "Augment all now uh . , they getters...\n",
      "Niggas bright this as now some hit repentant...\n",
      "For why dead might , i red debtors...\n",
      "A that it did sustain , other bet damage...\n",
      "Affection oath thine memory she rap example , damage...\n",
      "\n",
      "hmm9_10iters_kanye_backward:\n",
      "Hence pain endless enough , then the unpopular students...\n",
      "Then bereft hours like she and to hennessey...\n",
      "Eye deep lay frame you so ? servants...\n",
      "Ain^t safest so and beat she days fantasy...\n",
      "Th^ , - uh divin^ halt to boss...\n",
      "Best like the run state unjustly the holy...\n",
      "The my and i 35 show i^m boss...\n",
      "I^m this gon^ , i nigga sin holy...\n",
      ", people i , the you moment malady...\n",
      ". in wouldst to imitate slaughterhouse . trusty...\n",
      "Honour put told am black blind by malady...\n",
      "Her to in did i truth again rusty...\n",
      "Can^t realize sorted , on the come to devils...\n",
      "Smear coward make the . was went ^gainst revels...\n",
      "\n",
      "hmm10_10iters_kanye_backward:\n",
      ", delight cremated bench the , sake the unused...\n",
      "Dear , self when i durst prevent acknowledge...\n",
      "Cause to neck uh , and she confused...\n",
      "^so it right this nice , get college...\n",
      "Niggas that try , strand not silver johnny...\n",
      "Post my miss i deep answer black difference...\n",
      "I^m soft orange the i all live johnny...\n",
      "Bitch do his her i cause don^t ignorance...\n",
      "This now me without my on but mindy...\n",
      "Couple frantic love no coin^d than needle choir...\n",
      "Thirty to me in in far love mindy...\n",
      ", don^t a in resolved and the choir...\n",
      "Reproof in see niggas show^d said protect save splendor...\n",
      "Pine now how snake-ass win and , his splendor...\n"
     ]
    }
   ],
   "source": [
    "# with open(r\"hmm6_10iters_kanye_backward.pickle\", \"rb\") as input_file:\n",
    "#     hmm6_10iters_kanye_backward = pickle.load(input_file)\n",
    "with open(r\"hmm7_10iters_kanye_backward.pickle\", \"rb\") as input_file:\n",
    "    hmm7_10iters_kanye_backward = pickle.load(input_file)\n",
    "with open(r\"hmm8_10iters_kanye_backward.pickle\", \"rb\") as input_file:\n",
    "    hmm8_10iters_kanye_backward = pickle.load(input_file)\n",
    "with open(r\"hmm9_10iters_kanye_backward.pickle\", \"rb\") as input_file:\n",
    "    hmm9_10iters_kanye_backward = pickle.load(input_file)\n",
    "with open(r\"hmm10_10iters_kanye_backward.pickle\", \"rb\") as input_file:\n",
    "    hmm10_10iters_kanye_backward = pickle.load(input_file)\n",
    "with open(r\"obs_backward_kanye.pickle\", \"rb\") as input_file:\n",
    "    obs_kanye_backward = pickle.load(input_file)\n",
    "\n",
    "# print('hmm6_10iters_kanye_backward:')\n",
    "# get_rhyme(hmm6_10iters_kanye_backward, obs_map_kanye)\n",
    "# print('')\n",
    "print('hmm7_10iters_kanye_backward:')\n",
    "get_rhyme(hmm7_10iters_kanye_backward, obs_map_kanye)\n",
    "print('')\n",
    "print('hmm8_10iters_kanye_backward:')\n",
    "get_rhyme(hmm8_10iters_kanye_backward, obs_map_kanye)\n",
    "print('')\n",
    "print('hmm9_10iters_kanye_backward:')\n",
    "get_rhyme(hmm9_10iters_kanye_backward, obs_map_kanye)\n",
    "print('')\n",
    "print('hmm10_10iters_kanye_backward:')\n",
    "get_rhyme(hmm10_10iters_kanye_backward, obs_map_kanye)"
   ]
  },
  {
   "cell_type": "code",
   "execution_count": null,
   "metadata": {},
   "outputs": [],
   "source": []
  }
 ],
 "metadata": {
  "kernelspec": {
   "display_name": "Python 3",
   "language": "python",
   "name": "python3"
  },
  "language_info": {
   "codemirror_mode": {
    "name": "ipython",
    "version": 3
   },
   "file_extension": ".py",
   "mimetype": "text/x-python",
   "name": "python",
   "nbconvert_exporter": "python",
   "pygments_lexer": "ipython3",
   "version": "3.7.2"
  }
 },
 "nbformat": 4,
 "nbformat_minor": 2
}
