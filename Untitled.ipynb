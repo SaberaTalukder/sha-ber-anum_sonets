{
 "cells": [
  {
   "cell_type": "code",
   "execution_count": 1,
   "metadata": {},
   "outputs": [],
   "source": [
    "import os\n",
    "import re\n",
    "import numpy as np\n",
    "from IPython.display import HTML\n",
    "from jupyterthemes import jtplot\n",
    "jtplot.style()"
   ]
  },
  {
   "cell_type": "code",
   "execution_count": 64,
   "metadata": {},
   "outputs": [],
   "source": [
    "def parse_observations(text):\n",
    "    # Convert text to dataset.\n",
    "    lines = [line.split() for line in text.split('\\n') if line.split()]\n",
    "\n",
    "    obs_counter = 0\n",
    "    obs = []\n",
    "    obs_map = {}\n",
    "\n",
    "    for line in lines:\n",
    "        obs_elem = []\n",
    "        line = re.findall(r\"[\\w'^]+|'[.,!?;-]\", re.sub(\"'\", '^', text))\n",
    "        \n",
    "        for word in line:\n",
    "            word = re.sub(\"'\", '', word)\n",
    "            word = word.lower()\n",
    "            if word not in obs_map:\n",
    "                # Add unique words to the observations map.\n",
    "                obs_map[word] = obs_counter\n",
    "                obs_counter += 1\n",
    "            \n",
    "            # Add the encoded word.\n",
    "            obs_elem.append(obs_map[word])\n",
    "        \n",
    "        # Add the encoded sequence.\n",
    "        obs.append(obs_elem)\n",
    "\n",
    "    return obs, obs_map"
   ]
  },
  {
   "cell_type": "code",
   "execution_count": 65,
   "metadata": {},
   "outputs": [],
   "source": [
    "text = \"Sharon is talking to Sabera.\\n George is not here yet and we aren't going to start. 'Tis a fun day--hey!\\n\\n Hello, world! This is a happy-dance. I love you!!!\""
   ]
  },
  {
   "cell_type": "code",
   "execution_count": 66,
   "metadata": {},
   "outputs": [
    {
     "data": {
      "text/plain": [
       "{'sharon': 0,\n",
       " 'is': 1,\n",
       " 'talking': 2,\n",
       " 'to': 3,\n",
       " 'sabera': 4,\n",
       " 'george': 5,\n",
       " 'not': 6,\n",
       " 'here': 7,\n",
       " 'yet': 8,\n",
       " 'and': 9,\n",
       " 'we': 10,\n",
       " 'aren^t': 11,\n",
       " 'going': 12,\n",
       " 'start': 13,\n",
       " '^tis': 14,\n",
       " 'a': 15,\n",
       " 'fun': 16,\n",
       " 'day': 17,\n",
       " 'hey': 18,\n",
       " 'hello': 19,\n",
       " 'world': 20,\n",
       " 'this': 21,\n",
       " 'happy': 22,\n",
       " 'dance': 23,\n",
       " 'i': 24,\n",
       " 'love': 25,\n",
       " 'you': 26}"
      ]
     },
     "execution_count": 66,
     "metadata": {},
     "output_type": "execute_result"
    }
   ],
   "source": [
    "obs, obs_map = parse_observations(text)\n",
    "obs_map"
   ]
  },
  {
   "cell_type": "code",
   "execution_count": 55,
   "metadata": {},
   "outputs": [
    {
     "data": {
      "text/plain": [
       "{'sharon': 0,\n",
       " 'is': 1,\n",
       " 'talking': 2,\n",
       " 'to': 3,\n",
       " 'sabera': 4,\n",
       " 'george': 5,\n",
       " 'not': 6,\n",
       " 'here': 7,\n",
       " 'yet': 8,\n",
       " 'and': 9,\n",
       " 'we': 10,\n",
       " 'arent': 11,\n",
       " 'going': 12,\n",
       " 'start': 13,\n",
       " 'tis': 14,\n",
       " 'a': 15,\n",
       " 'fun': 16,\n",
       " 'day': 17,\n",
       " 'hey': 18,\n",
       " 'hello': 19,\n",
       " 'world': 20,\n",
       " 'this': 21,\n",
       " 'happy': 22,\n",
       " 'dance': 23,\n",
       " 'i': 24,\n",
       " 'love': 25,\n",
       " 'you': 26}"
      ]
     },
     "execution_count": 55,
     "metadata": {},
     "output_type": "execute_result"
    }
   ],
   "source": [
    "obs_map"
   ]
  },
  {
   "cell_type": "code",
   "execution_count": null,
   "metadata": {},
   "outputs": [],
   "source": [
    "line = re.split(r'[\\s-]+', str(text))"
   ]
  },
  {
   "cell_type": "code",
   "execution_count": null,
   "metadata": {},
   "outputs": [],
   "source": [
    "line"
   ]
  },
  {
   "cell_type": "code",
   "execution_count": null,
   "metadata": {},
   "outputs": [],
   "source": [
    "re.findall(r\"[\\s']+|[.,!?;-]\", text)"
   ]
  },
  {
   "cell_type": "code",
   "execution_count": null,
   "metadata": {},
   "outputs": [],
   "source": [
    "line = re.split(r\"[\\w']+|[.,!?;-]\", text)"
   ]
  },
  {
   "cell_type": "code",
   "execution_count": null,
   "metadata": {},
   "outputs": [],
   "source": [
    "line"
   ]
  },
  {
   "cell_type": "code",
   "execution_count": 38,
   "metadata": {},
   "outputs": [
    {
     "data": {
      "text/plain": [
       "['Sharon is talking to Sabera',\n",
       " \"\\n George is not here yet and we aren't going to start\",\n",
       " \" 'Tis a fun day--hey!\\n\\n Hello, world! This is a happy-dance\",\n",
       " ' I love you!!!']"
      ]
     },
     "execution_count": 38,
     "metadata": {},
     "output_type": "execute_result"
    }
   ],
   "source": [
    "text = \"Sharon is talking to Sabera.\\n George is not here yet and we aren't going to start. 'Tis a fun day--hey!\\n\\n Hello, world! This is a happy-dance. I love you!!!\"\n",
    "line = text.split('.')\n",
    "line"
   ]
  },
  {
   "cell_type": "code",
   "execution_count": 42,
   "metadata": {},
   "outputs": [
    {
     "data": {
      "text/plain": [
       "['Sharon',\n",
       " 'is',\n",
       " 'talking',\n",
       " 'to',\n",
       " 'Sabera',\n",
       " 'George',\n",
       " 'is',\n",
       " 'not',\n",
       " 'here',\n",
       " 'yet',\n",
       " 'and',\n",
       " 'we',\n",
       " 'aren^t',\n",
       " 'going',\n",
       " 'to',\n",
       " 'start',\n",
       " '^Tis',\n",
       " 'a',\n",
       " 'fun',\n",
       " 'day',\n",
       " 'hey',\n",
       " 'Hello',\n",
       " 'world',\n",
       " 'This',\n",
       " 'is',\n",
       " 'a',\n",
       " 'happy',\n",
       " 'dance',\n",
       " 'I',\n",
       " 'love',\n",
       " 'you']"
      ]
     },
     "execution_count": 42,
     "metadata": {},
     "output_type": "execute_result"
    }
   ],
   "source": [
    "text = \"Sharon is talking to Sabera.\\n George is not here yet and we aren't going to start. 'Tis a fun day--hey!\\n\\n Hello, world! This is a happy-dance. I love you!!!\"\n",
    "line = re.sub(\"'\", '^', text)\n",
    "line = re.findall(r\"[\\w^]+|'[.,!?;-]\", line)\n",
    "line"
   ]
  },
  {
   "cell_type": "code",
   "execution_count": null,
   "metadata": {},
   "outputs": [],
   "source": []
  }
 ],
 "metadata": {
  "kernelspec": {
   "display_name": "Python 3",
   "language": "python",
   "name": "python3"
  },
  "language_info": {
   "codemirror_mode": {
    "name": "ipython",
    "version": 3
   },
   "file_extension": ".py",
   "mimetype": "text/x-python",
   "name": "python",
   "nbconvert_exporter": "python",
   "pygments_lexer": "ipython3",
   "version": "3.7.2"
  }
 },
 "nbformat": 4,
 "nbformat_minor": 2
}
