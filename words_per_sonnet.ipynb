{
 "cells": [
  {
   "cell_type": "code",
   "execution_count": 1,
   "metadata": {},
   "outputs": [],
   "source": [
    "import numpy as np\n",
    "import os"
   ]
  },
  {
   "cell_type": "code",
   "execution_count": 2,
   "metadata": {},
   "outputs": [],
   "source": [
    "filepath = 'data/shakespeare.txt'\n",
    "TOTAL_NUM_POEMS = 154 #this is a one indexed value\n",
    "NUM_LINES_IN_POEM = 14\n",
    "\n",
    "last_num_words_in_line = 0\n",
    "all_num_of_words_per_line = np.zeros((TOTAL_NUM_POEMS-1, NUM_LINES_IN_POEM))\n",
    "poem_count = 0\n",
    "num_lines = 0\n",
    "\n",
    "with open(filepath) as fp:\n",
    "    line = fp.readline()\n",
    "    cnt = 1\n",
    "    while line:\n",
    "        number_words_in_line = len(line.split())\n",
    "        if last_num_words_in_line == 0 and number_words_in_line == 1:\n",
    "            num_lines = 0\n",
    "        \n",
    "        if 1<= num_lines <= 14:\n",
    "            all_num_of_words_per_line[poem_count, num_lines-1] = number_words_in_line\n",
    "            \n",
    "        if num_lines == 15:\n",
    "            poem_count += 1\n",
    "\n",
    "        num_lines += 1    \n",
    "        cnt += 1\n",
    "        line = fp.readline()\n",
    "        last_num_words_in_line = number_words_in_line"
   ]
  },
  {
   "cell_type": "code",
   "execution_count": 5,
   "metadata": {},
   "outputs": [],
   "source": [
    "average_number_of_words_per_line = np.mean(all_num_of_words_per_line, axis=0)"
   ]
  },
  {
   "cell_type": "code",
   "execution_count": 14,
   "metadata": {},
   "outputs": [],
   "source": [
    "added_avg_num_words_per_line = (average_number_of_words_per_line + 0.5)"
   ]
  },
  {
   "cell_type": "code",
   "execution_count": 17,
   "metadata": {},
   "outputs": [],
   "source": [
    "added_avg_num_words_per_line = added_avg_num_words_per_line.astype(int)"
   ]
  },
  {
   "cell_type": "code",
   "execution_count": 19,
   "metadata": {},
   "outputs": [
    {
     "data": {
      "text/plain": [
       "array([9, 8, 8, 8, 8, 8, 8, 8, 8, 8, 8, 8, 9, 9])"
      ]
     },
     "execution_count": 19,
     "metadata": {},
     "output_type": "execute_result"
    }
   ],
   "source": [
    "added_avg_num_words_per_line"
   ]
  },
  {
   "cell_type": "code",
   "execution_count": 18,
   "metadata": {},
   "outputs": [
    {
     "data": {
      "text/plain": [
       "115"
      ]
     },
     "execution_count": 18,
     "metadata": {},
     "output_type": "execute_result"
    }
   ],
   "source": [
    "np.sum(added_avg_num_words_per_line)"
   ]
  },
  {
   "cell_type": "code",
   "execution_count": null,
   "metadata": {},
   "outputs": [],
   "source": []
  }
 ],
 "metadata": {
  "kernelspec": {
   "display_name": "Python 3",
   "language": "python",
   "name": "python3"
  },
  "language_info": {
   "codemirror_mode": {
    "name": "ipython",
    "version": 3
   },
   "file_extension": ".py",
   "mimetype": "text/x-python",
   "name": "python",
   "nbconvert_exporter": "python",
   "pygments_lexer": "ipython3",
   "version": "3.7.3"
  }
 },
 "nbformat": 4,
 "nbformat_minor": 4
}
